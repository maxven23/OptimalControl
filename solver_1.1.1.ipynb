{
 "cells": [
  {
   "cell_type": "code",
   "execution_count": 1,
   "metadata": {},
   "outputs": [],
   "source": [
    "import numpy as np\n",
    "import sympy\n",
    "import csv\n",
    "from json import loads\n",
    "\n",
    "lab_number = '1.1.1'\n",
    "\n",
    "\n",
    "def toCopyString(matrix) -> str:\n",
    "    return 'matrix(' + str(matrix).replace('Matrix([', '[').replace('])', ']')[1:-1].replace(' ', '') + ')'\n",
    "\n",
    "def fromCopyString(string: str):\n",
    "    return loads(string.replace('matrix(', '[').replace(')', ']'))\n",
    "\n",
    "def получить_матрицы_варианта(number):\n",
    "    filename = f'./{lab_number}_variants.txt'\n",
    "    with open(filename, 'r') as file:\n",
    "        variants = csv.reader(file, delimiter=',')\n",
    "        variant = list(variants)[number - 1][1].split(';')\n",
    "        A = fromCopyString(variant[0])\n",
    "        B = fromCopyString(variant[1])\n",
    "        L = fromCopyString(variant[2])\n",
    "    return A, B, L"
   ]
  },
  {
   "cell_type": "code",
   "execution_count": 2,
   "metadata": {},
   "outputs": [],
   "source": [
    "A, B, L = получить_матрицы_варианта(8)\n",
    "A = sympy.Matrix(A)\n",
    "B = sympy.Matrix(B)\n",
    "L = sympy.Matrix(L)"
   ]
  },
  {
   "cell_type": "code",
   "execution_count": 3,
   "metadata": {},
   "outputs": [],
   "source": [
    "def матрица_управляемости(A, B, L):\n",
    "    матрица = sympy.eye(3)\n",
    "    матрица[:, 0] = B \n",
    "    матрица[:, 1] = A*B\n",
    "    матрица[:, 2] = A**2*B\n",
    "    return матрица"
   ]
  },
  {
   "cell_type": "code",
   "execution_count": 4,
   "metadata": {},
   "outputs": [
    {
     "data": {
      "text/latex": [
       "$\\displaystyle \\left[\\begin{matrix}8 & -41 & 3\\\\-1 & 36 & -167\\\\-3 & 11 & 36\\end{matrix}\\right]$"
      ],
      "text/plain": [
       "Matrix([\n",
       "[ 8, -41,    3],\n",
       "[-1,  36, -167],\n",
       "[-3,  11,   36]])"
      ]
     },
     "execution_count": 4,
     "metadata": {},
     "output_type": "execute_result"
    }
   ],
   "source": [
    "S = матрица_управляемости(A, B, L)\n",
    "S"
   ]
  },
  {
   "cell_type": "code",
   "execution_count": 5,
   "metadata": {},
   "outputs": [],
   "source": [
    "def определитель_матрицы_управляемости(S):\n",
    "    определитель = S.det()\n",
    "    # print('Да!' if определитель != 0 else 'Нет :(')\n",
    "    return определитель"
   ]
  },
  {
   "cell_type": "code",
   "execution_count": 6,
   "metadata": {},
   "outputs": [
    {
     "name": "stdout",
     "output_type": "stream",
     "text": [
      "3338\n"
     ]
    }
   ],
   "source": [
    "print(определитель_матрицы_управляемости(S))"
   ]
  },
  {
   "cell_type": "code",
   "execution_count": 7,
   "metadata": {},
   "outputs": [],
   "source": [
    "def коэффициенты_характеристического_полином_разомкнутой_системы(A):\n",
    "    l = sympy.symbols('lambda')\n",
    "    I = sympy.eye(3)\n",
    "    detChPolyOpen = (l*I - A).det()\n",
    "    c0 = detChPolyOpen.coeff(l, 0)\n",
    "    c1 = detChPolyOpen.coeff(l, 1)\n",
    "    c2 = detChPolyOpen.coeff(l, 2)\n",
    "    ChPolyOpen = sympy.Matrix([\n",
    "        c0,\n",
    "        c1,\n",
    "        c2\n",
    "        ])\n",
    "    return ChPolyOpen"
   ]
  },
  {
   "cell_type": "code",
   "execution_count": 8,
   "metadata": {},
   "outputs": [
    {
     "data": {
      "text/latex": [
       "$\\displaystyle \\left[\\begin{matrix}152\\\\59\\\\11\\end{matrix}\\right]$"
      ],
      "text/plain": [
       "Matrix([\n",
       "[152],\n",
       "[ 59],\n",
       "[ 11]])"
      ]
     },
     "execution_count": 8,
     "metadata": {},
     "output_type": "execute_result"
    }
   ],
   "source": [
    "коэффициенты_характеристического_полином_разомкнутой_системы(A)"
   ]
  },
  {
   "cell_type": "code",
   "execution_count": 9,
   "metadata": {},
   "outputs": [],
   "source": [
    "def коэффициенты_характеристического_полином_замкнутой_системы(L):\n",
    "    c0 = L[0]*L[1]*L[2]\n",
    "    c1 = L[0]*L[1] + L[1]*L[2] + L[0]*L[2]\n",
    "    c2 = L[0]+L[1]+L[2]\n",
    "\n",
    "    ChPolyOpen = sympy.Matrix([\n",
    "        -c0,\n",
    "        c1,\n",
    "        -c2\n",
    "        ])\n",
    "    return ChPolyOpen"
   ]
  },
  {
   "cell_type": "code",
   "execution_count": 10,
   "metadata": {},
   "outputs": [
    {
     "data": {
      "text/latex": [
       "$\\displaystyle \\left[\\begin{matrix}15\\\\23\\\\9\\end{matrix}\\right]$"
      ],
      "text/plain": [
       "Matrix([\n",
       "[15],\n",
       "[23],\n",
       "[ 9]])"
      ]
     },
     "execution_count": 10,
     "metadata": {},
     "output_type": "execute_result"
    }
   ],
   "source": [
    "коэффициенты_характеристического_полином_замкнутой_системы(L)"
   ]
  },
  {
   "cell_type": "code",
   "execution_count": 34,
   "metadata": {},
   "outputs": [],
   "source": [
    "def матрица_D_обратная(A, B, L):\n",
    "    c0, c1, c2 = коэффициенты_характеристического_полином_разомкнутой_системы(A)\n",
    "    k0, k1, k2 = коэффициенты_характеристического_полином_замкнутой_системы(L)\n",
    "    d3 = B\n",
    "    d2 = A*d3 + c2*B\n",
    "    d1 = A*d2 + c1*B\n",
    "    res = sympy.eye(3)\n",
    "    res[:, 0] = d1\n",
    "    res[:, 1] = d2\n",
    "    res[:, 2] = d3\n",
    "    return res.inv().n()"
   ]
  },
  {
   "cell_type": "code",
   "execution_count": 35,
   "metadata": {},
   "outputs": [
    {
     "data": {
      "text/latex": [
       "$\\displaystyle \\left[\\begin{matrix}0.0290593169562612 & 0.0104853205512283 & 0.0739964050329539\\\\-0.158777711204314 & -0.0263630916716597 & -0.414619532654284\\\\0.970641102456561 & 0.123427201917316 & 2.21390053924506\\end{matrix}\\right]$"
      ],
      "text/plain": [
       "Matrix([\n",
       "[0.0290593169562612,  0.0104853205512283, 0.0739964050329539],\n",
       "[-0.158777711204314, -0.0263630916716597, -0.414619532654284],\n",
       "[ 0.970641102456561,   0.123427201917316,   2.21390053924506]])"
      ]
     },
     "execution_count": 35,
     "metadata": {},
     "output_type": "execute_result"
    }
   ],
   "source": [
    "матрица_D_обратная(A, B, L)"
   ]
  },
  {
   "cell_type": "code",
   "execution_count": 40,
   "metadata": {},
   "outputs": [],
   "source": [
    "def вектор_G(A, L):\n",
    "    return (коэффициенты_характеристического_полином_разомкнутой_системы(A) -\\\n",
    "        коэффициенты_характеристического_полином_замкнутой_системы(L)).T"
   ]
  },
  {
   "cell_type": "code",
   "execution_count": 41,
   "metadata": {},
   "outputs": [
    {
     "data": {
      "text/latex": [
       "$\\displaystyle \\left[\\begin{matrix}137 & 36 & 2\\end{matrix}\\right]$"
      ],
      "text/plain": [
       "Matrix([[137, 36, 2]])"
      ]
     },
     "execution_count": 41,
     "metadata": {},
     "output_type": "execute_result"
    }
   ],
   "source": [
    "вектор_G(A, L)"
   ]
  },
  {
   "cell_type": "code",
   "execution_count": 42,
   "metadata": {},
   "outputs": [],
   "source": [
    "def вектор_p(A, B, L):\n",
    "    G = вектор_G(A, L)\n",
    "    D_обр = матрица_D_обратная(A, B, L)\n",
    "    return G*D_обр"
   ]
  },
  {
   "cell_type": "code",
   "execution_count": 43,
   "metadata": {},
   "outputs": [
    {
     "data": {
      "text/latex": [
       "$\\displaystyle \\left[\\begin{matrix}0.206411024565608 & 0.734272019173158 & -0.36099460754943\\end{matrix}\\right]$"
      ],
      "text/plain": [
       "Matrix([[0.206411024565608, 0.734272019173158, -0.36099460754943]])"
      ]
     },
     "execution_count": 43,
     "metadata": {},
     "output_type": "execute_result"
    }
   ],
   "source": [
    "res = вектор_p(A, B, L)\n",
    "res"
   ]
  },
  {
   "cell_type": "code",
   "execution_count": 44,
   "metadata": {},
   "outputs": [
    {
     "data": {
      "text/plain": [
       "'matrix([0.206411024565608,0.734272019173158,-0.360994607549430])'"
      ]
     },
     "execution_count": 44,
     "metadata": {},
     "output_type": "execute_result"
    }
   ],
   "source": [
    "toCopyString(res)"
   ]
  },
  {
   "cell_type": "code",
   "execution_count": 15,
   "metadata": {},
   "outputs": [],
   "source": [
    "for var_number in range(1, 31):\n",
    "    A, B, L = получить_матрицы_варианта(var_number)\n",
    "    A = sympy.Matrix(A)\n",
    "    B = sympy.Matrix(B)\n",
    "    L = sympy.Matrix(L)\n",
    "\n",
    "    S                        = матрица_управляемости(A, B, L)\n",
    "    определитель             = определитель_матрицы_управляемости(S)\n",
    "    коэффициенты_разомкнутой = коэффициенты_характеристического_полином_разомкнутой_системы(A)\n",
    "    коэффициенты_замкнутой   = коэффициенты_характеристического_полином_замкнутой_системы(L)\n",
    "    D_обртаная               = матрица_D_обратная(A, B, L)\n",
    "    G                        = вектор_G(A, L)\n",
    "    p                        = вектор_p(A, B, L)\n",
    "    \n",
    "    with open(f'./results/{var_number}.txt', 'w') as file:\n",
    "        file.write(toCopyString(S) + '\\n')\n",
    "        file.write(str(определитель) + '\\n')\n",
    "        file.write(toCopyString(коэффициенты_разомкнутой) + '\\n')\n",
    "        file.write(toCopyString(коэффициенты_замкнутой) + '\\n')\n",
    "        file.write(toCopyString(D_обртаная) + '\\n')\n",
    "        file.write(toCopyString(G) + '\\n')\n",
    "        file.write(toCopyString(p) + '\\n')\n",
    "        "
   ]
  },
  {
   "cell_type": "code",
   "execution_count": null,
   "metadata": {},
   "outputs": [],
   "source": []
  }
 ],
 "metadata": {
  "interpreter": {
   "hash": "568d99031516cb91b124139a50c43e0e628ee43803acee1edec6cbd47ca74668"
  },
  "kernelspec": {
   "display_name": "Python 3.10.2 64-bit",
   "language": "python",
   "name": "python3"
  },
  "language_info": {
   "codemirror_mode": {
    "name": "ipython",
    "version": 3
   },
   "file_extension": ".py",
   "mimetype": "text/x-python",
   "name": "python",
   "nbconvert_exporter": "python",
   "pygments_lexer": "ipython3",
   "version": "3.10.2"
  },
  "orig_nbformat": 4
 },
 "nbformat": 4,
 "nbformat_minor": 2
}
