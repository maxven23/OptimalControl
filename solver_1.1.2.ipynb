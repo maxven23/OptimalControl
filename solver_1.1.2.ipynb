{
 "cells": [
  {
   "cell_type": "code",
   "execution_count": 1,
   "metadata": {},
   "outputs": [],
   "source": [
    "import numpy as np\n",
    "import sympy\n",
    "import csv\n",
    "from json import loads\n",
    "\n",
    "lab_number = '1.1.2'\n",
    "\n",
    "\n",
    "def toCopyString(matrix) -> str:\n",
    "    return 'matrix(' + str(matrix).replace('Matrix([', '[').replace('])', ']')[1:-1].replace(' ', '') + ')'\n",
    "\n",
    "def fromCopyString(string: str):\n",
    "    return loads(string.replace('matrix(', '[').replace(')', ']'))\n",
    "\n",
    "def получить_матрицы_варианта(number):\n",
    "    filename = f'./{lab_number}_variants.txt'\n",
    "    with open(filename, 'r') as file:\n",
    "        variants = csv.reader(file, delimiter=',')\n",
    "        variant = list(variants)[number - 1][1].split(';')\n",
    "        A = fromCopyString(variant[0])\n",
    "        B = fromCopyString(variant[1])\n",
    "        L = fromCopyString(variant[2])\n",
    "        r = fromCopyString(variant[3])\n",
    "    return A, B, L, r"
   ]
  },
  {
   "cell_type": "code",
   "execution_count": 2,
   "metadata": {},
   "outputs": [],
   "source": [
    "A, B, L, r = получить_матрицы_варианта(8)\n",
    "A = sympy.Matrix(A)\n",
    "B = sympy.Matrix(B)\n",
    "L = sympy.Matrix(L)\n",
    "r = sympy.Matrix(r)"
   ]
  },
  {
   "cell_type": "code",
   "execution_count": 3,
   "metadata": {},
   "outputs": [],
   "source": [
    "def матрица_b(B, r):\n",
    "    return B*r"
   ]
  },
  {
   "cell_type": "code",
   "execution_count": 4,
   "metadata": {},
   "outputs": [
    {
     "data": {
      "text/latex": [
       "$\\displaystyle \\left[\\begin{matrix}9\\\\5\\\\1\\end{matrix}\\right]$"
      ],
      "text/plain": [
       "Matrix([\n",
       "[9],\n",
       "[5],\n",
       "[1]])"
      ]
     },
     "execution_count": 4,
     "metadata": {},
     "output_type": "execute_result"
    }
   ],
   "source": [
    "b = матрица_b(B, r)\n",
    "b"
   ]
  },
  {
   "cell_type": "code",
   "execution_count": 7,
   "metadata": {},
   "outputs": [],
   "source": [
    "def матрица_управляемости(A, B, L):\n",
    "    матрица = sympy.zeros(3, 6)\n",
    "    матрица[:, 0:2] = B \n",
    "    матрица[:, 2:4] = A*B\n",
    "    матрица[:, 4:] = A**2*B\n",
    "    return матрица"
   ]
  },
  {
   "cell_type": "code",
   "execution_count": 16,
   "metadata": {},
   "outputs": [
    {
     "data": {
      "text/latex": [
       "$\\displaystyle \\left[\\begin{matrix}5 & 1 & 14 & 13 & 66 & 93\\\\-3 & 2 & -2 & 7 & 16 & 34\\\\1 & 0 & 4 & 0 & 16 & 0\\end{matrix}\\right]$"
      ],
      "text/plain": [
       "Matrix([\n",
       "[ 5, 1, 14, 13, 66, 93],\n",
       "[-3, 2, -2,  7, 16, 34],\n",
       "[ 1, 0,  4,  0, 16,  0]])"
      ]
     },
     "execution_count": 16,
     "metadata": {},
     "output_type": "execute_result"
    }
   ],
   "source": [
    "S = матрица_управляемости(A, B, L)\n",
    "S"
   ]
  },
  {
   "cell_type": "code",
   "execution_count": 17,
   "metadata": {},
   "outputs": [],
   "source": [
    "def определитель_матрицы_управляемости(S):\n",
    "    определитель = S[:, :3].det()\n",
    "    # print('Да!' if определитель != 0 else 'Нет :(')\n",
    "    return определитель"
   ]
  },
  {
   "cell_type": "code",
   "execution_count": 18,
   "metadata": {},
   "outputs": [
    {
     "name": "stdout",
     "output_type": "stream",
     "text": [
      "22\n"
     ]
    }
   ],
   "source": [
    "print(определитель_матрицы_управляемости(S))"
   ]
  },
  {
   "cell_type": "code",
   "execution_count": 19,
   "metadata": {},
   "outputs": [],
   "source": [
    "def коэффициенты_характеристического_полином_разомкнутой_системы(A):\n",
    "    l = sympy.symbols('lambda')\n",
    "    I = sympy.eye(3)\n",
    "    detChPolyOpen = (l*I - A).det()\n",
    "    c0 = detChPolyOpen.coeff(l, 0)\n",
    "    c1 = detChPolyOpen.coeff(l, 1)\n",
    "    c2 = detChPolyOpen.coeff(l, 2)\n",
    "    ChPolyOpen = sympy.Matrix([\n",
    "        c0,\n",
    "        c1,\n",
    "        c2\n",
    "        ])\n",
    "    return ChPolyOpen"
   ]
  },
  {
   "cell_type": "code",
   "execution_count": 20,
   "metadata": {},
   "outputs": [
    {
     "data": {
      "text/latex": [
       "$\\displaystyle \\left[\\begin{matrix}-44\\\\43\\\\-12\\end{matrix}\\right]$"
      ],
      "text/plain": [
       "Matrix([\n",
       "[-44],\n",
       "[ 43],\n",
       "[-12]])"
      ]
     },
     "execution_count": 20,
     "metadata": {},
     "output_type": "execute_result"
    }
   ],
   "source": [
    "коэффициенты_характеристического_полином_разомкнутой_системы(A)"
   ]
  },
  {
   "cell_type": "code",
   "execution_count": 21,
   "metadata": {},
   "outputs": [],
   "source": [
    "def коэффициенты_характеристического_полином_замкнутой_системы(L):\n",
    "    c0 = L[0]*L[1]*L[2]\n",
    "    c1 = L[0]*L[1] + L[1]*L[2] + L[0]*L[2]\n",
    "    c2 = L[0]+L[1]+L[2]\n",
    "\n",
    "    ChPolyOpen = sympy.Matrix([\n",
    "        -c0,\n",
    "        c1,\n",
    "        -c2\n",
    "        ])\n",
    "    return ChPolyOpen"
   ]
  },
  {
   "cell_type": "code",
   "execution_count": 22,
   "metadata": {},
   "outputs": [
    {
     "data": {
      "text/latex": [
       "$\\displaystyle \\left[\\begin{matrix}4\\\\8\\\\5\\end{matrix}\\right]$"
      ],
      "text/plain": [
       "Matrix([\n",
       "[4],\n",
       "[8],\n",
       "[5]])"
      ]
     },
     "execution_count": 22,
     "metadata": {},
     "output_type": "execute_result"
    }
   ],
   "source": [
    "коэффициенты_характеристического_полином_замкнутой_системы(L)"
   ]
  },
  {
   "cell_type": "code",
   "execution_count": 23,
   "metadata": {},
   "outputs": [],
   "source": [
    "def матрица_D_обратная(A, B, L, r):\n",
    "    c0, c1, c2 = коэффициенты_характеристического_полином_разомкнутой_системы(A)\n",
    "    k0, k1, k2 = коэффициенты_характеристического_полином_замкнутой_системы(L)\n",
    "    d3 = B*r\n",
    "    d2 = A*d3 + c2*(B*r)\n",
    "    d1 = A*d2 + c1*(B*r)\n",
    "    res = sympy.eye(3)\n",
    "    res[:, 0] = d1\n",
    "    res[:, 1] = d2\n",
    "    res[:, 2] = d3\n",
    "    return res.inv().n()"
   ]
  },
  {
   "cell_type": "code",
   "execution_count": 25,
   "metadata": {},
   "outputs": [
    {
     "data": {
      "text/plain": [
       "'matrix([-0.0151515151515152,0.0757575757575758,-0.242424242424242],[0,0.166666666666667,-0.833333333333333],[0.166666666666667,0.500000000000000,-3.00000000000000])'"
      ]
     },
     "execution_count": 25,
     "metadata": {},
     "output_type": "execute_result"
    }
   ],
   "source": [
    "toCopyString(матрица_D_обратная(A, B, L, r))"
   ]
  },
  {
   "cell_type": "code",
   "execution_count": 27,
   "metadata": {},
   "outputs": [],
   "source": [
    "def вектор_G(A, L):\n",
    "    return (коэффициенты_характеристического_полином_разомкнутой_системы(A) -\\\n",
    "        коэффициенты_характеристического_полином_замкнутой_системы(L)).T"
   ]
  },
  {
   "cell_type": "code",
   "execution_count": 31,
   "metadata": {},
   "outputs": [],
   "source": [
    "def вектор_управления(A, B, L, r):\n",
    "    G = вектор_G(A, L)\n",
    "    D_обр = матрица_D_обратная(A, B, L, r)\n",
    "    return G*D_обр"
   ]
  },
  {
   "cell_type": "code",
   "execution_count": 33,
   "metadata": {},
   "outputs": [
    {
     "data": {
      "text/plain": [
       "'matrix([-2.10606060606061,-6.30303030303030,33.4696969696970])'"
      ]
     },
     "execution_count": 33,
     "metadata": {},
     "output_type": "execute_result"
    }
   ],
   "source": [
    "toCopyString(вектор_управления(A, B, L, r))"
   ]
  },
  {
   "cell_type": "code",
   "execution_count": 38,
   "metadata": {},
   "outputs": [],
   "source": [
    "def векторное_управление_u(A, B, L, r):\n",
    "    u = вектор_управления(A, B, L, r)    \n",
    "    return r*u"
   ]
  },
  {
   "cell_type": "code",
   "execution_count": 39,
   "metadata": {},
   "outputs": [
    {
     "data": {
      "text/latex": [
       "$\\displaystyle \\left[\\begin{matrix}-2.10606060606061 & -6.3030303030303 & 33.469696969697\\\\-8.42424242424242 & -25.2121212121212 & 133.878787878788\\end{matrix}\\right]$"
      ],
      "text/plain": [
       "Matrix([\n",
       "[-2.10606060606061,  -6.3030303030303,  33.469696969697],\n",
       "[-8.42424242424242, -25.2121212121212, 133.878787878788]])"
      ]
     },
     "execution_count": 39,
     "metadata": {},
     "output_type": "execute_result"
    }
   ],
   "source": [
    "res = векторное_управление_u(A, B, L, r)\n",
    "res"
   ]
  },
  {
   "cell_type": "code",
   "execution_count": 40,
   "metadata": {},
   "outputs": [
    {
     "data": {
      "text/plain": [
       "'matrix([-2.10606060606061,-6.30303030303030,33.4696969696970],[-8.42424242424242,-25.2121212121212,133.878787878788])'"
      ]
     },
     "execution_count": 40,
     "metadata": {},
     "output_type": "execute_result"
    }
   ],
   "source": [
    "toCopyString(res)"
   ]
  },
  {
   "cell_type": "code",
   "execution_count": 24,
   "metadata": {},
   "outputs": [],
   "source": [
    "for var_number in range(1, 31):\n",
    "    A, B, L, r = получить_матрицы_варианта(var_number)\n",
    "    A = sympy.Matrix(A)\n",
    "    B = sympy.Matrix(B)\n",
    "    L = sympy.Matrix(L)\n",
    "    r = sympy.Matrix(r)\n",
    "    \n",
    "    S                        = матрица_управляемости(A, B, L)\n",
    "    определитель             = определитель_матрицы_управляемости(S)\n",
    "    коэффициенты_разомкнутой = коэффициенты_характеристического_полином_разомкнутой_системы(A)\n",
    "    коэффициенты_замкнутой   = коэффициенты_характеристического_полином_замкнутой_системы(L)\n",
    "    D_обратная               = матрица_D_обратная(A, B, L, r)\n",
    "    вектор_v                 = вектор_управления(A, B, L, r)\n",
    "    векторное_u              = векторное_управление_u(A, B, L, r)\n",
    "    \n",
    "    with open(f'./results/{var_number}.txt', 'w') as file:\n",
    "        file.write(toCopyString(S) + '\\n')\n",
    "        file.write(str(определитель) + '\\n')\n",
    "        file.write(toCopyString(коэффициенты_разомкнутой) + '\\n')\n",
    "        file.write(toCopyString(коэффициенты_замкнутой) + '\\n')\n",
    "        file.write(toCopyString(D_обратная) + '\\n')\n",
    "        file.write(toCopyString(вектор_v) + '\\n')\n",
    "        file.write(toCopyString(векторное_u) + '\\n')\n",
    "        "
   ]
  },
  {
   "cell_type": "code",
   "execution_count": null,
   "metadata": {},
   "outputs": [],
   "source": []
  }
 ],
 "metadata": {
  "interpreter": {
   "hash": "568d99031516cb91b124139a50c43e0e628ee43803acee1edec6cbd47ca74668"
  },
  "kernelspec": {
   "display_name": "Python 3.10.2 64-bit",
   "language": "python",
   "name": "python3"
  },
  "language_info": {
   "codemirror_mode": {
    "name": "ipython",
    "version": 3
   },
   "file_extension": ".py",
   "mimetype": "text/x-python",
   "name": "python",
   "nbconvert_exporter": "python",
   "pygments_lexer": "ipython3",
   "version": "3.10.2"
  },
  "orig_nbformat": 4
 },
 "nbformat": 4,
 "nbformat_minor": 2
}
