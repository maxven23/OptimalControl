{
 "cells": [
  {
   "cell_type": "code",
   "execution_count": 2,
   "metadata": {},
   "outputs": [],
   "source": [
    "import numpy as np\n",
    "import sympy\n",
    "import csv\n",
    "from json import loads\n",
    "\n",
    "lab_number = '1.2.1'\n",
    "\n",
    "\n",
    "def toCopyString(matrix) -> str:\n",
    "    return 'matrix(' + str(matrix).replace('Matrix([', '[').replace('])', ']')[1:-1].replace(' ', '') + ')'\n",
    "\n",
    "def fromCopyString(string: str):\n",
    "    return loads(string.replace('matrix(', '[').replace(')', ']'))\n",
    "\n",
    "def получить_матрицы_варианта(number):\n",
    "    filename = f'./{lab_number}_variants.txt'\n",
    "    with open(filename, 'r') as file:\n",
    "        variants = csv.reader(file, delimiter=',')\n",
    "        variant = list(variants)[number - 1][1].split(';')\n",
    "        A = fromCopyString(variant[0])\n",
    "        B = fromCopyString(variant[1])\n",
    "        L = fromCopyString(variant[2])\n",
    "    return A, B, L"
   ]
  },
  {
   "cell_type": "code",
   "execution_count": 3,
   "metadata": {},
   "outputs": [],
   "source": [
    "A, B, L = получить_матрицы_варианта(8)\n",
    "A = sympy.Matrix(A)\n",
    "B = sympy.Matrix(B)\n",
    "L = sympy.Matrix(L)"
   ]
  },
  {
   "cell_type": "code",
   "execution_count": 4,
   "metadata": {},
   "outputs": [],
   "source": [
    "def матрица_управляемости(A, B, L):\n",
    "    матрица = sympy.eye(3)\n",
    "    матрица[:, 0] = B \n",
    "    матрица[:, 1] = A*B\n",
    "    матрица[:, 2] = A**2*B\n",
    "    return матрица"
   ]
  },
  {
   "cell_type": "code",
   "execution_count": 5,
   "metadata": {},
   "outputs": [
    {
     "data": {
      "text/latex": [
       "$\\displaystyle \\left[\\begin{matrix}-2 & 20 & -72\\\\0 & 14 & -100\\\\-4 & 8 & -108\\end{matrix}\\right]$"
      ],
      "text/plain": [
       "Matrix([\n",
       "[-2, 20,  -72],\n",
       "[ 0, 14, -100],\n",
       "[-4,  8, -108]])"
      ]
     },
     "execution_count": 5,
     "metadata": {},
     "output_type": "execute_result"
    }
   ],
   "source": [
    "S = матрица_управляемости(A, B, L)\n",
    "S"
   ]
  },
  {
   "cell_type": "code",
   "execution_count": 6,
   "metadata": {},
   "outputs": [],
   "source": [
    "def определитель_матрицы_управляемости(S):\n",
    "    определитель = S.det()\n",
    "    # print('Да!' if определитель != 0 else 'Нет :(')\n",
    "    return определитель"
   ]
  },
  {
   "cell_type": "code",
   "execution_count": 7,
   "metadata": {},
   "outputs": [
    {
     "name": "stdout",
     "output_type": "stream",
     "text": [
      "5392\n"
     ]
    }
   ],
   "source": [
    "print(определитель_матрицы_управляемости(S))"
   ]
  },
  {
   "cell_type": "code",
   "execution_count": 8,
   "metadata": {},
   "outputs": [],
   "source": [
    "def коэффициенты_характеристического_полином_разомкнутой_системы(A):\n",
    "    l = sympy.symbols('lambda')\n",
    "    I = sympy.eye(3)\n",
    "    detChPolyOpen = (l*I - A).det()\n",
    "    c0 = detChPolyOpen.coeff(l, 0)\n",
    "    c1 = detChPolyOpen.coeff(l, 1)\n",
    "    c2 = detChPolyOpen.coeff(l, 2)\n",
    "    ChPolyOpen = sympy.Matrix([\n",
    "        c0,\n",
    "        c1,\n",
    "        c2\n",
    "        ])\n",
    "    return ChPolyOpen"
   ]
  },
  {
   "cell_type": "code",
   "execution_count": 9,
   "metadata": {},
   "outputs": [
    {
     "data": {
      "text/latex": [
       "$\\displaystyle \\left[\\begin{matrix}-68\\\\-14\\\\6\\end{matrix}\\right]$"
      ],
      "text/plain": [
       "Matrix([\n",
       "[-68],\n",
       "[-14],\n",
       "[  6]])"
      ]
     },
     "execution_count": 9,
     "metadata": {},
     "output_type": "execute_result"
    }
   ],
   "source": [
    "коэффициенты_характеристического_полином_разомкнутой_системы(A)"
   ]
  },
  {
   "cell_type": "code",
   "execution_count": 10,
   "metadata": {},
   "outputs": [],
   "source": [
    "def коэффициенты_характеристического_полином_замкнутой_системы(L):\n",
    "    c0 = L[0]*L[1]*L[2]\n",
    "    c1 = L[0]*L[1] + L[1]*L[2] + L[0]*L[2]\n",
    "    c2 = L[0]+L[1]+L[2]\n",
    "\n",
    "    ChPolyOpen = sympy.Matrix([\n",
    "        -c0,\n",
    "        c1,\n",
    "        -c2\n",
    "        ])\n",
    "    return ChPolyOpen"
   ]
  },
  {
   "cell_type": "code",
   "execution_count": 11,
   "metadata": {},
   "outputs": [
    {
     "data": {
      "text/latex": [
       "$\\displaystyle \\left[\\begin{matrix}-90\\\\-33\\\\2\\end{matrix}\\right]$"
      ],
      "text/plain": [
       "Matrix([\n",
       "[-90],\n",
       "[-33],\n",
       "[  2]])"
      ]
     },
     "execution_count": 11,
     "metadata": {},
     "output_type": "execute_result"
    }
   ],
   "source": [
    "коэффициенты_характеристического_полином_замкнутой_системы(L)"
   ]
  },
  {
   "cell_type": "code",
   "execution_count": 12,
   "metadata": {},
   "outputs": [],
   "source": [
    "def вектор_управления(A, B, L):\n",
    "    s = sympy.symbols('s')\n",
    "    I = sympy.eye(3)\n",
    "    матрица = (s*I - A)\n",
    "    g = матрица.adjugate()*B\n",
    "    F = матрица.det()\n",
    "    k0, k1, k2 = коэффициенты_характеристического_полином_замкнутой_системы(L)\n",
    "    H = s**3 + s**2*k2 + s*k1 + k0\n",
    "\n",
    "    p1 = sympy.symbols('p_1')\n",
    "    p2 = sympy.symbols('p_2')\n",
    "    p3 = sympy.symbols('p_3')\n",
    "\n",
    "    p = sympy.Matrix([\n",
    "        p1,\n",
    "        p2,\n",
    "        p3\n",
    "    ]).T\n",
    "\n",
    "    solved = sympy.solvers.solvers.solve_undetermined_coeffs((p*g)[0] - (H-F), [p1, p2, p3], s)\n",
    "\n",
    "    res = [float(i) for i in solved.values()]\n",
    "    res = sympy.Matrix(res)\n",
    "\n",
    "    return res"
   ]
  },
  {
   "cell_type": "code",
   "execution_count": 13,
   "metadata": {},
   "outputs": [
    {
     "data": {
      "text/latex": [
       "$\\displaystyle \\left[\\begin{matrix}-0.222551928783383\\\\0.0400593471810089\\\\1.11127596439169\\end{matrix}\\right]$"
      ],
      "text/plain": [
       "Matrix([\n",
       "[-0.222551928783383],\n",
       "[0.0400593471810089],\n",
       "[  1.11127596439169]])"
      ]
     },
     "execution_count": 13,
     "metadata": {},
     "output_type": "execute_result"
    }
   ],
   "source": [
    "res = вектор_управления(A, B, L)\n",
    "res"
   ]
  },
  {
   "cell_type": "code",
   "execution_count": 14,
   "metadata": {},
   "outputs": [
    {
     "data": {
      "text/plain": [
       "'matrix([-0.222551928783383],[0.0400593471810089],[1.11127596439169])'"
      ]
     },
     "execution_count": 14,
     "metadata": {},
     "output_type": "execute_result"
    }
   ],
   "source": [
    "toCopyString(res)"
   ]
  },
  {
   "cell_type": "code",
   "execution_count": 15,
   "metadata": {},
   "outputs": [],
   "source": [
    "for var_number in range(1, 31):\n",
    "    A, B, L = получить_матрицы_варианта(var_number)\n",
    "    A = sympy.Matrix(A)\n",
    "    B = sympy.Matrix(B)\n",
    "    L = sympy.Matrix(L)\n",
    "\n",
    "    S                        = матрица_управляемости(A, B, L)\n",
    "    определитель             = определитель_матрицы_управляемости(S)\n",
    "    коэффициенты_разомкнутой = коэффициенты_характеристического_полином_разомкнутой_системы(A)\n",
    "    коэффициенты_замкнутой   = коэффициенты_характеристического_полином_замкнутой_системы(L)\n",
    "    вектор_управления_       = вектор_управления(A, B, L)\n",
    "    \n",
    "    with open(f'./results/{var_number}.txt', 'w') as file:\n",
    "        file.write(toCopyString(S) + '\\n')\n",
    "        file.write(str(определитель) + '\\n')\n",
    "        file.write(toCopyString(коэффициенты_разомкнутой) + '\\n')\n",
    "        file.write(toCopyString(коэффициенты_замкнутой) + '\\n')\n",
    "        file.write(toCopyString(вектор_управления_) + '\\n')\n",
    "        "
   ]
  }
 ],
 "metadata": {
  "interpreter": {
   "hash": "568d99031516cb91b124139a50c43e0e628ee43803acee1edec6cbd47ca74668"
  },
  "kernelspec": {
   "display_name": "Python 3.10.2 64-bit",
   "language": "python",
   "name": "python3"
  },
  "language_info": {
   "codemirror_mode": {
    "name": "ipython",
    "version": 3
   },
   "file_extension": ".py",
   "mimetype": "text/x-python",
   "name": "python",
   "nbconvert_exporter": "python",
   "pygments_lexer": "ipython3",
   "version": "3.10.2"
  },
  "orig_nbformat": 4
 },
 "nbformat": 4,
 "nbformat_minor": 2
}
