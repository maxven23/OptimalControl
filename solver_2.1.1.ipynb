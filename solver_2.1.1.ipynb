{
 "cells": [
  {
   "cell_type": "code",
   "execution_count": 1,
   "metadata": {},
   "outputs": [],
   "source": [
    "import numpy as np\n",
    "import sympy\n",
    "import csv\n",
    "from json import loads\n",
    "\n",
    "lab_number = '2.1.1'\n",
    "\n",
    "\n",
    "def toCopyString(matrix) -> str:\n",
    "    return 'matrix(' + str(matrix).replace('Matrix([', '[').replace('])', ']')[1:-1].replace(' ', '') + ')'\n",
    "\n",
    "def fromCopyString(string: str):\n",
    "    return loads(string.replace('matrix(', '[').replace(')', ']'))\n",
    "\n",
    "def получить_матрицы_варианта(number):\n",
    "    filename = f'./{lab_number}_variants.txt'\n",
    "    with open(filename, 'r') as file:\n",
    "        variants = csv.reader(file, delimiter=',')\n",
    "        variant = list(variants)[number - 1][1].split(';')\n",
    "        A = fromCopyString(variant[0])\n",
    "        B = fromCopyString(variant[1])\n",
    "        L = fromCopyString(variant[2])\n",
    "        H = fromCopyString(variant[3])\n",
    "    return A, B, L, H"
   ]
  },
  {
   "cell_type": "code",
   "execution_count": 9,
   "metadata": {},
   "outputs": [],
   "source": [
    "A, B, L, H = получить_матрицы_варианта(8)\n",
    "A = sympy.Matrix(A)\n",
    "B = sympy.Matrix(B)\n",
    "L = sympy.Matrix(L)\n",
    "H = sympy.Matrix(H)"
   ]
  },
  {
   "cell_type": "code",
   "execution_count": 10,
   "metadata": {},
   "outputs": [],
   "source": [
    "def матрица_управляемости(A, B, L):\n",
    "    матрица = sympy.eye(3)\n",
    "    матрица[:, 0] = B \n",
    "    матрица[:, 1] = A*B\n",
    "    матрица[:, 2] = A**2*B\n",
    "    return матрица"
   ]
  },
  {
   "cell_type": "code",
   "execution_count": 11,
   "metadata": {},
   "outputs": [
    {
     "data": {
      "text/latex": [
       "$\\displaystyle \\left[\\begin{matrix}5 & -32 & 284\\\\-5 & -4 & 184\\\\4 & -4 & -320\\end{matrix}\\right]$"
      ],
      "text/plain": [
       "Matrix([\n",
       "[ 5, -32,  284],\n",
       "[-5,  -4,  184],\n",
       "[ 4,  -4, -320]])"
      ]
     },
     "execution_count": 11,
     "metadata": {},
     "output_type": "execute_result"
    }
   ],
   "source": [
    "S = матрица_управляемости(A, B, L)\n",
    "S"
   ]
  },
  {
   "cell_type": "code",
   "execution_count": 12,
   "metadata": {},
   "outputs": [],
   "source": [
    "def определитель_матрицы_управляемости(S):\n",
    "    определитель = S.det()\n",
    "    # print('Да!' if определитель != 0 else 'Нет :(')\n",
    "    return определитель"
   ]
  },
  {
   "cell_type": "code",
   "execution_count": 13,
   "metadata": {},
   "outputs": [
    {
     "name": "stdout",
     "output_type": "stream",
     "text": [
      "47952\n"
     ]
    }
   ],
   "source": [
    "print(определитель_матрицы_управляемости(S))"
   ]
  },
  {
   "cell_type": "code",
   "execution_count": 14,
   "metadata": {},
   "outputs": [],
   "source": [
    "def коэффициенты_характеристического_полином_разомкнутой_системы(A):\n",
    "    l = sympy.symbols('lambda')\n",
    "    I = sympy.eye(3)\n",
    "    detChPolyOpen = (l*I - A).det()\n",
    "    c0 = detChPolyOpen.coeff(l, 0)\n",
    "    c1 = detChPolyOpen.coeff(l, 1)\n",
    "    c2 = detChPolyOpen.coeff(l, 2)\n",
    "    ChPolyOpen = sympy.Matrix([\n",
    "        c0,\n",
    "        c1,\n",
    "        c2\n",
    "        ])\n",
    "    return ChPolyOpen"
   ]
  },
  {
   "cell_type": "code",
   "execution_count": 15,
   "metadata": {},
   "outputs": [
    {
     "data": {
      "text/latex": [
       "$\\displaystyle \\left[\\begin{matrix}372\\\\145\\\\17\\end{matrix}\\right]$"
      ],
      "text/plain": [
       "Matrix([\n",
       "[372],\n",
       "[145],\n",
       "[ 17]])"
      ]
     },
     "execution_count": 15,
     "metadata": {},
     "output_type": "execute_result"
    }
   ],
   "source": [
    "коэффициенты_характеристического_полином_разомкнутой_системы(A)"
   ]
  },
  {
   "cell_type": "code",
   "execution_count": 16,
   "metadata": {},
   "outputs": [],
   "source": [
    "def коэффициенты_характеристического_полином_замкнутой_системы(L):\n",
    "    c0 = L[0]*L[1]*L[2]\n",
    "    c1 = L[0]*L[1] + L[1]*L[2] + L[0]*L[2]\n",
    "    c2 = L[0]+L[1]+L[2]\n",
    "\n",
    "    ChPolyOpen = sympy.Matrix([\n",
    "        -c0,\n",
    "        c1,\n",
    "        -c2\n",
    "        ])\n",
    "    return ChPolyOpen"
   ]
  },
  {
   "cell_type": "code",
   "execution_count": 17,
   "metadata": {},
   "outputs": [
    {
     "data": {
      "text/latex": [
       "$\\displaystyle \\left[\\begin{matrix}160\\\\92\\\\17\\end{matrix}\\right]$"
      ],
      "text/plain": [
       "Matrix([\n",
       "[160],\n",
       "[ 92],\n",
       "[ 17]])"
      ]
     },
     "execution_count": 17,
     "metadata": {},
     "output_type": "execute_result"
    }
   ],
   "source": [
    "коэффициенты_характеристического_полином_замкнутой_системы(L)"
   ]
  },
  {
   "cell_type": "code",
   "execution_count": 23,
   "metadata": {},
   "outputs": [],
   "source": [
    "def матрица_D_H(A, B, L, H):\n",
    "    c0, c1, c2 = коэффициенты_характеристического_полином_разомкнутой_системы(A)\n",
    "    k0, k1, k2 = коэффициенты_характеристического_полином_замкнутой_системы(L)\n",
    "    d3 = B\n",
    "    d2 = A*d3 + c2*B\n",
    "    d1 = A*d2 + c1*B\n",
    "    res = sympy.eye(3)\n",
    "    res[:, 0] = d1\n",
    "    res[:, 1] = d2\n",
    "    res[:, 2] = d3\n",
    "    return (res.T*H.T)"
   ]
  },
  {
   "cell_type": "code",
   "execution_count": 30,
   "metadata": {},
   "outputs": [
    {
     "data": {
      "text/latex": [
       "$\\displaystyle \\left[\\begin{matrix}465 & -609\\\\53 & -89\\end{matrix}\\right]$"
      ],
      "text/plain": [
       "Matrix([\n",
       "[465, -609],\n",
       "[ 53,  -89]])"
      ]
     },
     "execution_count": 30,
     "metadata": {},
     "output_type": "execute_result"
    }
   ],
   "source": [
    "rs = матрица_D_H(A, B, L, H)\n",
    "rs"
   ]
  },
  {
   "cell_type": "code",
   "execution_count": 25,
   "metadata": {},
   "outputs": [],
   "source": [
    "def вектор_из_коэффициентов(A, B, L, H):\n",
    "    return коэффициенты_характеристического_полином_разомкнутой_системы(A) - коэффициенты_характеристического_полином_замкнутой_системы(L)"
   ]
  },
  {
   "cell_type": "code",
   "execution_count": 47,
   "metadata": {},
   "outputs": [
    {
     "data": {
      "text/latex": [
       "$\\displaystyle \\left[\\begin{matrix}212\\\\53\\end{matrix}\\right]$"
      ],
      "text/plain": [
       "Matrix([\n",
       "[212],\n",
       "[ 53]])"
      ]
     },
     "execution_count": 47,
     "metadata": {},
     "output_type": "execute_result"
    }
   ],
   "source": [
    "вектор_из_коэффициентов(A, B, L, H)[:2, 0]"
   ]
  },
  {
   "cell_type": "code",
   "execution_count": 60,
   "metadata": {},
   "outputs": [],
   "source": [
    "def матрица_G(A, B, L, H):\n",
    "\n",
    "    res = (матрица_D_H(A, B, L, H)[:2, :].inv())*(вектор_из_коэффициентов(A, B, L, H))[:2, 0]\n",
    "\n",
    "    return res.n().T"
   ]
  },
  {
   "cell_type": "code",
   "execution_count": 53,
   "metadata": {},
   "outputs": [
    {
     "data": {
      "text/latex": [
       "$\\displaystyle \\left[\\begin{matrix}-1.47222222222222 & -1.47222222222222\\end{matrix}\\right]$"
      ],
      "text/plain": [
       "Matrix([[-1.47222222222222, -1.47222222222222]])"
      ]
     },
     "execution_count": 53,
     "metadata": {},
     "output_type": "execute_result"
    }
   ],
   "source": [
    "res = матрица_G(A, B, L, H)\n",
    "res"
   ]
  },
  {
   "cell_type": "code",
   "execution_count": 55,
   "metadata": {},
   "outputs": [
    {
     "data": {
      "text/plain": [
       "'matrix([-1.47222222222222,-1.47222222222222])'"
      ]
     },
     "execution_count": 55,
     "metadata": {},
     "output_type": "execute_result"
    }
   ],
   "source": [
    "toCopyString(res)"
   ]
  },
  {
   "cell_type": "code",
   "execution_count": 59,
   "metadata": {},
   "outputs": [],
   "source": [
    "for var_number in range(1, 31):\n",
    "    A, B, L, H = получить_матрицы_варианта(var_number)\n",
    "    A = sympy.Matrix(A)\n",
    "    B = sympy.Matrix(B)\n",
    "    L = sympy.Matrix(L)\n",
    "    H = sympy.Matrix(H)\n",
    "    \n",
    "    S                        = матрица_управляемости(A, B, L)\n",
    "    определитель             = определитель_матрицы_управляемости(S)\n",
    "    коэффициенты_разомкнутой = коэффициенты_характеристического_полином_разомкнутой_системы(A)\n",
    "    коэффициенты_замкнутой   = коэффициенты_характеристического_полином_замкнутой_системы(L)\n",
    "    DH_матрица               = матрица_D_H(A, B, L, H)\n",
    "    G                        = матрица_G(A, B, L, H)\n",
    "    \n",
    "    with open(f'./results/{var_number}.txt', 'w') as file:\n",
    "        file.write(toCopyString(S) + '\\n')\n",
    "        file.write(str(определитель) + '\\n')\n",
    "        file.write(toCopyString(коэффициенты_разомкнутой) + '\\n')\n",
    "        file.write(toCopyString(коэффициенты_замкнутой) + '\\n')\n",
    "        file.write(toCopyString(DH_матрица) + '\\n')\n",
    "        file.write(toCopyString(G) + '\\n')\n",
    "        "
   ]
  },
  {
   "cell_type": "code",
   "execution_count": null,
   "metadata": {},
   "outputs": [],
   "source": []
  }
 ],
 "metadata": {
  "interpreter": {
   "hash": "568d99031516cb91b124139a50c43e0e628ee43803acee1edec6cbd47ca74668"
  },
  "kernelspec": {
   "display_name": "Python 3.10.2 64-bit",
   "language": "python",
   "name": "python3"
  },
  "language_info": {
   "codemirror_mode": {
    "name": "ipython",
    "version": 3
   },
   "file_extension": ".py",
   "mimetype": "text/x-python",
   "name": "python",
   "nbconvert_exporter": "python",
   "pygments_lexer": "ipython3",
   "version": "3.10.2"
  },
  "orig_nbformat": 4
 },
 "nbformat": 4,
 "nbformat_minor": 2
}
