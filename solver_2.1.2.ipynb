{
 "cells": [
  {
   "cell_type": "code",
   "execution_count": 137,
   "metadata": {},
   "outputs": [],
   "source": [
    "import numpy as np\n",
    "import sympy\n",
    "import csv\n",
    "from json import loads\n",
    "\n",
    "lab_number = '2.1.2'\n",
    "\n",
    "\n",
    "def toCopyString(matrix) -> str:\n",
    "    return 'matrix(' + str(matrix).replace('Matrix([', '[').replace('])', ']')[1:-1].replace(' ', '') + ')'\n",
    "\n",
    "def fromCopyString(string: str):\n",
    "    return loads(string.replace('matrix(', '[').replace(')', ']'))\n",
    "\n",
    "def получить_матрицы_варианта(number):\n",
    "    filename = f'./{lab_number}_variants.txt'\n",
    "    with open(filename, 'r') as file:\n",
    "        variants = csv.reader(file, delimiter=',')\n",
    "        variant = list(variants)[number - 1][1].split(';')\n",
    "        A = fromCopyString(variant[0])\n",
    "        B = fromCopyString(variant[1])\n",
    "        L = fromCopyString(variant[2])\n",
    "        H = fromCopyString(variant[3])\n",
    "    return A, B, L, H"
   ]
  },
  {
   "cell_type": "code",
   "execution_count": 200,
   "metadata": {},
   "outputs": [],
   "source": [
    "A, B, L, H = получить_матрицы_варианта(10)\n",
    "A = sympy.Matrix(A)\n",
    "B = sympy.Matrix(B)\n",
    "L = sympy.Matrix(L)\n",
    "H = sympy.Matrix(H)"
   ]
  },
  {
   "cell_type": "code",
   "execution_count": 201,
   "metadata": {},
   "outputs": [],
   "source": [
    "def матрица_управляемости(A, B, L):\n",
    "    матрица = sympy.zeros(3, 6)\n",
    "    матрица[:, 0:2] = B \n",
    "    матрица[:, 2:4] = A*B\n",
    "    матрица[:, 4:] = A**2*B\n",
    "    return матрица"
   ]
  },
  {
   "cell_type": "code",
   "execution_count": 202,
   "metadata": {},
   "outputs": [
    {
     "data": {
      "text/latex": [
       "$\\displaystyle \\left[\\begin{matrix}-5 & 9 & 14 & -63 & -104 & 414\\\\4 & 9 & -17 & 9 & -23 & -18\\\\-2 & -9 & -16 & 54 & 88 & -360\\end{matrix}\\right]$"
      ],
      "text/plain": [
       "Matrix([\n",
       "[-5,  9,  14, -63, -104,  414],\n",
       "[ 4,  9, -17,   9,  -23,  -18],\n",
       "[-2, -9, -16,  54,   88, -360]])"
      ]
     },
     "execution_count": 202,
     "metadata": {},
     "output_type": "execute_result"
    }
   ],
   "source": [
    "S = матрица_управляемости(A, B, L)\n",
    "S"
   ]
  },
  {
   "cell_type": "code",
   "execution_count": 203,
   "metadata": {},
   "outputs": [
    {
     "data": {
      "text/plain": [
       "'matrix([-5,9,14,-63,-104,414],[4,9,-17,9,-23,-18],[-2,-9,-16,54,88,-360])'"
      ]
     },
     "execution_count": 203,
     "metadata": {},
     "output_type": "execute_result"
    }
   ],
   "source": [
    "toCopyString(S)"
   ]
  },
  {
   "cell_type": "code",
   "execution_count": 182,
   "metadata": {},
   "outputs": [],
   "source": [
    "def определитель_матрицы_управляемости(S):\n",
    "    определитель = S[:, :3].det()\n",
    "    # print('Да!' if определитель != 0 else 'Нет :(')\n",
    "    return определитель"
   ]
  },
  {
   "cell_type": "code",
   "execution_count": 204,
   "metadata": {},
   "outputs": [
    {
     "name": "stdout",
     "output_type": "stream",
     "text": [
      "2115\n"
     ]
    }
   ],
   "source": [
    "print(определитель_матрицы_управляемости(S))"
   ]
  },
  {
   "cell_type": "code",
   "execution_count": 144,
   "metadata": {},
   "outputs": [],
   "source": [
    "def коэффициенты_характеристического_полином_разомкнутой_системы(A):\n",
    "    l = sympy.symbols('lambda')\n",
    "    I = sympy.eye(3)\n",
    "    detChPolyOpen = (l*I - A).det()\n",
    "    c0 = detChPolyOpen.coeff(l, 0)\n",
    "    c1 = detChPolyOpen.coeff(l, 1)\n",
    "    c2 = detChPolyOpen.coeff(l, 2)\n",
    "    ChPolyOpen = sympy.Matrix([\n",
    "        c0,\n",
    "        c1,\n",
    "        c2\n",
    "        ])\n",
    "    return ChPolyOpen.T"
   ]
  },
  {
   "cell_type": "code",
   "execution_count": 205,
   "metadata": {},
   "outputs": [
    {
     "data": {
      "text/latex": [
       "$\\displaystyle \\left[\\begin{matrix}4 & -10 & 5\\end{matrix}\\right]$"
      ],
      "text/plain": [
       "Matrix([[4, -10, 5]])"
      ]
     },
     "execution_count": 205,
     "metadata": {},
     "output_type": "execute_result"
    }
   ],
   "source": [
    "c = коэффициенты_характеристического_полином_разомкнутой_системы(A)\n",
    "c"
   ]
  },
  {
   "cell_type": "code",
   "execution_count": 206,
   "metadata": {},
   "outputs": [
    {
     "data": {
      "text/plain": [
       "'matrix([4,-10,5])'"
      ]
     },
     "execution_count": 206,
     "metadata": {},
     "output_type": "execute_result"
    }
   ],
   "source": [
    "toCopyString(c)"
   ]
  },
  {
   "cell_type": "code",
   "execution_count": 148,
   "metadata": {},
   "outputs": [],
   "source": [
    "def коэффициенты_характеристического_полином_замкнутой_системы(L):\n",
    "    c0 = L[0]*L[1]*L[2]\n",
    "    c1 = L[0]*L[1] + L[1]*L[2] + L[0]*L[2]\n",
    "    c2 = L[0]+L[1]+L[2]\n",
    "\n",
    "    ChPolyOpen = sympy.Matrix([\n",
    "        -c0,\n",
    "        c1,\n",
    "        -c2\n",
    "        ])\n",
    "    return ChPolyOpen.T"
   ]
  },
  {
   "cell_type": "code",
   "execution_count": 207,
   "metadata": {},
   "outputs": [
    {
     "data": {
      "text/latex": [
       "$\\displaystyle \\left[\\begin{matrix}90 & 63 & 14\\end{matrix}\\right]$"
      ],
      "text/plain": [
       "Matrix([[90, 63, 14]])"
      ]
     },
     "execution_count": 207,
     "metadata": {},
     "output_type": "execute_result"
    }
   ],
   "source": [
    "coe = коэффициенты_характеристического_полином_замкнутой_системы(L)\n",
    "coe"
   ]
  },
  {
   "cell_type": "code",
   "execution_count": 208,
   "metadata": {},
   "outputs": [
    {
     "data": {
      "text/plain": [
       "'matrix([90,63,14])'"
      ]
     },
     "execution_count": 208,
     "metadata": {},
     "output_type": "execute_result"
    }
   ],
   "source": [
    "toCopyString(coe)"
   ]
  },
  {
   "cell_type": "code",
   "execution_count": 150,
   "metadata": {},
   "outputs": [],
   "source": [
    "def вектор_из_коэффициентов(A, B, L, H):\n",
    "    return коэффициенты_характеристического_полином_разомкнутой_системы(A) - коэффициенты_характеристического_полином_замкнутой_системы(L)"
   ]
  },
  {
   "cell_type": "code",
   "execution_count": 236,
   "metadata": {},
   "outputs": [],
   "source": [
    "def вектор_r(A, B, L, H):\n",
    "    r1 = sympy.Symbol('r_1')\n",
    "    r = sympy.Matrix([r1, 1])\n",
    "    b = B*r\n",
    "\n",
    "    c0, c1, c2 = коэффициенты_характеристического_полином_разомкнутой_системы(A)\n",
    "    d3 = b \n",
    "    d2 = A*d3 + c2*b\n",
    "    d1 = A*d2 + c1*b\n",
    "\n",
    "    D = sympy.eye(3)\n",
    "    D[:, 0] = d1\n",
    "    D[:, 1] = d2\n",
    "    D[:, 2] = d3\n",
    "    m = D.T*H.T\n",
    "\n",
    "    n1 = 1\n",
    "    n2 = sympy.Symbol('n_2')\n",
    "    n3 = sympy.Symbol('n_3')\n",
    "\n",
    "    n = sympy.Matrix([n1, n2, n3]).T\n",
    "\n",
    "    solved = sympy.solvers.solvers.solve((n*m).T, Msymbols=[n2, n3])\n",
    "    n_2 = solved[0][n2]\n",
    "    n_3 = solved[0][n3]\n",
    "    denominator = sympy.fraction(n_2)[1]\n",
    "\n",
    "    N = sympy.Matrix([n1*denominator, n_2*denominator, n_3*denominator])\n",
    "\n",
    "    vec = вектор_из_коэффициентов(A, B, L, H)\n",
    "    res = (vec*N)[0]\n",
    "    solved_ = sympy.solvers.solvers.solve(res, Msymbols=[r1])\n",
    "    r_1 = solved_[0]\n",
    "    r = sympy.Matrix([r_1, 1])\n",
    "    return r.n()"
   ]
  },
  {
   "cell_type": "code",
   "execution_count": 237,
   "metadata": {},
   "outputs": [
    {
     "ename": "IndexError",
     "evalue": "list index out of range",
     "output_type": "error",
     "traceback": [
      "\u001b[1;31m---------------------------------------------------------------------------\u001b[0m",
      "\u001b[1;31mIndexError\u001b[0m                                Traceback (most recent call last)",
      "\u001b[1;32mc:\\Users\\1\\Desktop\\VS_Python\\MEPhI\\OptimalControl\\2.1.2\\solver.ipynb Cell 16'\u001b[0m in \u001b[0;36m<module>\u001b[1;34m\u001b[0m\n\u001b[1;32m----> <a href='vscode-notebook-cell:/c%3A/Users/1/Desktop/VS_Python/MEPhI/OptimalControl/2.1.2/solver.ipynb#X53sZmlsZQ%3D%3D?line=0'>1</a>\u001b[0m r \u001b[39m=\u001b[39m вектор_r(A, B, L, H)\n\u001b[0;32m      <a href='vscode-notebook-cell:/c%3A/Users/1/Desktop/VS_Python/MEPhI/OptimalControl/2.1.2/solver.ipynb#X53sZmlsZQ%3D%3D?line=1'>2</a>\u001b[0m r\n",
      "\u001b[1;32mc:\\Users\\1\\Desktop\\VS_Python\\MEPhI\\OptimalControl\\2.1.2\\solver.ipynb Cell 15'\u001b[0m in \u001b[0;36mвектор_r\u001b[1;34m(A, B, L, H)\u001b[0m\n\u001b[0;32m     <a href='vscode-notebook-cell:/c%3A/Users/1/Desktop/VS_Python/MEPhI/OptimalControl/2.1.2/solver.ipynb#X30sZmlsZQ%3D%3D?line=30'>31</a>\u001b[0m res \u001b[39m=\u001b[39m (vec\u001b[39m*\u001b[39mN)[\u001b[39m0\u001b[39m]\n\u001b[0;32m     <a href='vscode-notebook-cell:/c%3A/Users/1/Desktop/VS_Python/MEPhI/OptimalControl/2.1.2/solver.ipynb#X30sZmlsZQ%3D%3D?line=31'>32</a>\u001b[0m solved_ \u001b[39m=\u001b[39m sympy\u001b[39m.\u001b[39msolvers\u001b[39m.\u001b[39msolvers\u001b[39m.\u001b[39msolve(res, Msymbols\u001b[39m=\u001b[39m[r1])\n\u001b[1;32m---> <a href='vscode-notebook-cell:/c%3A/Users/1/Desktop/VS_Python/MEPhI/OptimalControl/2.1.2/solver.ipynb#X30sZmlsZQ%3D%3D?line=32'>33</a>\u001b[0m r_1 \u001b[39m=\u001b[39m solved_[\u001b[39m0\u001b[39;49m]\n\u001b[0;32m     <a href='vscode-notebook-cell:/c%3A/Users/1/Desktop/VS_Python/MEPhI/OptimalControl/2.1.2/solver.ipynb#X30sZmlsZQ%3D%3D?line=33'>34</a>\u001b[0m r \u001b[39m=\u001b[39m sympy\u001b[39m.\u001b[39mMatrix([r_1, \u001b[39m1\u001b[39m])\n\u001b[0;32m     <a href='vscode-notebook-cell:/c%3A/Users/1/Desktop/VS_Python/MEPhI/OptimalControl/2.1.2/solver.ipynb#X30sZmlsZQ%3D%3D?line=34'>35</a>\u001b[0m \u001b[39mreturn\u001b[39;00m r\u001b[39m.\u001b[39mn()\n",
      "\u001b[1;31mIndexError\u001b[0m: list index out of range"
     ]
    }
   ],
   "source": [
    "r = вектор_r(A, B, L, H)\n",
    "r"
   ]
  },
  {
   "cell_type": "code",
   "execution_count": 191,
   "metadata": {},
   "outputs": [
    {
     "data": {
      "text/plain": [
       "'matrix([-0.537336764877053],[1.00000000000000])'"
      ]
     },
     "execution_count": 191,
     "metadata": {},
     "output_type": "execute_result"
    }
   ],
   "source": [
    "toCopyString(r)"
   ]
  },
  {
   "cell_type": "code",
   "execution_count": 159,
   "metadata": {},
   "outputs": [],
   "source": [
    "def матрица_D_H(A, B, L, H, r):\n",
    "    c0, c1, c2 = коэффициенты_характеристического_полином_разомкнутой_системы(A)\n",
    "    k0, k1, k2 = коэффициенты_характеристического_полином_замкнутой_системы(L)\n",
    "    d3 = B*r\n",
    "    d2 = A*d3 + c2*B*r\n",
    "    d1 = A*d2 + c1*B*r\n",
    "    res = sympy.eye(3)\n",
    "    res[:, 0] = d1\n",
    "    res[:, 1] = d2\n",
    "    res[:, 2] = d3\n",
    "    return (res.T*H.T)"
   ]
  },
  {
   "cell_type": "code",
   "execution_count": 192,
   "metadata": {},
   "outputs": [
    {
     "data": {
      "text/latex": [
       "$\\displaystyle \\left[\\begin{matrix}0.00240259189265025 & -0.195598425223079\\\\0.0141384146100731 & -0.21915778295871\\end{matrix}\\right]$"
      ],
      "text/plain": [
       "Matrix([\n",
       "[0.00240259189265025, -0.195598425223079],\n",
       "[ 0.0141384146100731,  -0.21915778295871]])"
      ]
     },
     "execution_count": 192,
     "metadata": {},
     "output_type": "execute_result"
    }
   ],
   "source": [
    "rs = матрица_D_H(A, B, L, H, r)\n",
    "rs[:2, :].inv()"
   ]
  },
  {
   "cell_type": "code",
   "execution_count": 193,
   "metadata": {},
   "outputs": [
    {
     "data": {
      "text/plain": [
       "'matrix([-97.8861500407386,87.3634353324599],[-6.31487942237728,1.07311028299156],[0.224020589262317,-0.402611761967154])'"
      ]
     },
     "execution_count": 193,
     "metadata": {},
     "output_type": "execute_result"
    }
   ],
   "source": [
    "toCopyString(rs)"
   ]
  },
  {
   "cell_type": "code",
   "execution_count": 194,
   "metadata": {},
   "outputs": [
    {
     "data": {
      "text/latex": [
       "$\\displaystyle \\left[\\begin{matrix}-34 & -94\\end{matrix}\\right]$"
      ],
      "text/plain": [
       "Matrix([[-34, -94]])"
      ]
     },
     "execution_count": 194,
     "metadata": {},
     "output_type": "execute_result"
    }
   ],
   "source": [
    "вектор_из_коэффициентов(A, B, L, H)[:, :2]"
   ]
  },
  {
   "cell_type": "code",
   "execution_count": 195,
   "metadata": {},
   "outputs": [],
   "source": [
    "def вектор_v(A, B, L, H, r):\n",
    "\n",
    "    res = (матрица_D_H(A, B, L, H, r)[:2, :].inv())*(вектор_из_коэффициентов(A, B, L, H))[:, :2].T\n",
    "\n",
    "    return res.n().T"
   ]
  },
  {
   "cell_type": "code",
   "execution_count": 196,
   "metadata": {},
   "outputs": [
    {
     "data": {
      "text/latex": [
       "$\\displaystyle \\left[\\begin{matrix}18.3045638466193 & 20.1201255013762\\end{matrix}\\right]$"
      ],
      "text/plain": [
       "Matrix([[18.3045638466193, 20.1201255013762]])"
      ]
     },
     "execution_count": 196,
     "metadata": {},
     "output_type": "execute_result"
    }
   ],
   "source": [
    "res = вектор_v(A, B, L, H, r)\n",
    "res"
   ]
  },
  {
   "cell_type": "code",
   "execution_count": 197,
   "metadata": {},
   "outputs": [
    {
     "data": {
      "text/plain": [
       "'matrix([18.3045638466193,20.1201255013762])'"
      ]
     },
     "execution_count": 197,
     "metadata": {},
     "output_type": "execute_result"
    }
   ],
   "source": [
    "toCopyString(res)"
   ]
  },
  {
   "cell_type": "code",
   "execution_count": 171,
   "metadata": {},
   "outputs": [],
   "source": [
    "def матрица_p(v, r):\n",
    "    return r*v"
   ]
  },
  {
   "cell_type": "code",
   "execution_count": 198,
   "metadata": {},
   "outputs": [
    {
     "data": {
      "text/latex": [
       "$\\displaystyle \\left[\\begin{matrix}-9.8357151198279 & -10.8112831458298\\\\18.3045638466193 & 20.1201255013762\\end{matrix}\\right]$"
      ],
      "text/plain": [
       "Matrix([\n",
       "[-9.8357151198279, -10.8112831458298],\n",
       "[18.3045638466193,  20.1201255013762]])"
      ]
     },
     "execution_count": 198,
     "metadata": {},
     "output_type": "execute_result"
    }
   ],
   "source": [
    "RE = матрица_p(res, r)\n",
    "RE"
   ]
  },
  {
   "cell_type": "code",
   "execution_count": 199,
   "metadata": {},
   "outputs": [
    {
     "data": {
      "text/plain": [
       "'matrix([-9.83571511982790,-10.8112831458298],[18.3045638466193,20.1201255013762])'"
      ]
     },
     "execution_count": 199,
     "metadata": {},
     "output_type": "execute_result"
    }
   ],
   "source": [
    "toCopyString(RE)"
   ]
  },
  {
   "cell_type": "code",
   "execution_count": 239,
   "metadata": {},
   "outputs": [
    {
     "name": "stdout",
     "output_type": "stream",
     "text": [
      "1\n",
      "2\n",
      "3\n",
      "4\n",
      "5\n",
      "6\n",
      "7\n",
      "8\n",
      "9\n",
      "11\n",
      "12\n",
      "13\n",
      "14\n",
      "15\n",
      "16\n",
      "17\n",
      "18\n",
      "19\n",
      "20\n",
      "21\n",
      "22\n",
      "23\n",
      "24\n",
      "25\n",
      "26\n",
      "27\n",
      "28\n",
      "29\n",
      "30\n"
     ]
    }
   ],
   "source": [
    "for var_number in range(1, 31):\n",
    "    A, B, L, H = получить_матрицы_варианта(var_number)\n",
    "    A = sympy.Matrix(A)\n",
    "    B = sympy.Matrix(B)\n",
    "    L = sympy.Matrix(L)\n",
    "    H = sympy.Matrix(H)\n",
    "    try:\n",
    "        S                        = матрица_управляемости(A, B, L)\n",
    "        определитель             = определитель_матрицы_управляемости(S)\n",
    "        коэффициенты_разомкнутой = коэффициенты_характеристического_полином_разомкнутой_системы(A)\n",
    "        коэффициенты_замкнутой   = коэффициенты_характеристического_полином_замкнутой_системы(L)\n",
    "        r                        = вектор_r(A, B, L, H)\n",
    "        DH_матрица               = матрица_D_H(A, B, L, H, r)\n",
    "        v                        = вектор_v(A, B, L, H, r)\n",
    "        u                        = матрица_p(v, r)\n",
    "\n",
    "        print(var_number)\n",
    "        with open(f'./results/{var_number}.txt', 'w') as file:\n",
    "            file.write(toCopyString(S) + '\\n')\n",
    "            file.write(str(определитель) + '\\n')\n",
    "            file.write(toCopyString(коэффициенты_разомкнутой) + '\\n')\n",
    "            file.write(toCopyString(коэффициенты_замкнутой) + '\\n')\n",
    "            file.write(toCopyString(r) + '\\n')\n",
    "            file.write(toCopyString(DH_матрица) + '\\n')\n",
    "            file.write(toCopyString(v) + '\\n')\n",
    "            file.write(toCopyString(u) + '\\n')\n",
    "    except:\n",
    "        pass\n",
    "        "
   ]
  },
  {
   "cell_type": "code",
   "execution_count": null,
   "metadata": {},
   "outputs": [],
   "source": []
  }
 ],
 "metadata": {
  "interpreter": {
   "hash": "568d99031516cb91b124139a50c43e0e628ee43803acee1edec6cbd47ca74668"
  },
  "kernelspec": {
   "display_name": "Python 3.10.2 64-bit",
   "language": "python",
   "name": "python3"
  },
  "language_info": {
   "codemirror_mode": {
    "name": "ipython",
    "version": 3
   },
   "file_extension": ".py",
   "mimetype": "text/x-python",
   "name": "python",
   "nbconvert_exporter": "python",
   "pygments_lexer": "ipython3",
   "version": "3.10.2"
  },
  "orig_nbformat": 4
 },
 "nbformat": 4,
 "nbformat_minor": 2
}
