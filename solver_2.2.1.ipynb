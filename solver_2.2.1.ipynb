{
 "cells": [
  {
   "cell_type": "code",
   "execution_count": 1,
   "metadata": {},
   "outputs": [],
   "source": [
    "import numpy as np\n",
    "import sympy\n",
    "import csv\n",
    "from json import loads\n",
    "\n",
    "lab_number = '2.2.1'\n",
    "\n",
    "\n",
    "def toCopyString(matrix) -> str:\n",
    "    return 'matrix(' + str(matrix).replace('Matrix([', '[').replace('])', ']')[1:-1].replace(' ', '') + ')'\n",
    "\n",
    "def fromCopyString(string: str):\n",
    "    return loads(string.replace('matrix(', '[').replace(')', ']'))\n",
    "\n",
    "def получить_матрицы_варианта(number):\n",
    "    filename = f'./{lab_number}_variants.txt'\n",
    "    with open(filename, 'r') as file:\n",
    "        variants = csv.reader(file, delimiter=',')\n",
    "        variant = list(variants)[number - 1][1].split(';')\n",
    "        A = fromCopyString(variant[0])\n",
    "        B = fromCopyString(variant[1])\n",
    "        L = fromCopyString(variant[2])\n",
    "    return A, B, L"
   ]
  },
  {
   "cell_type": "code",
   "execution_count": 277,
   "metadata": {},
   "outputs": [
    {
     "data": {
      "text/latex": [
       "$\\displaystyle \\left[\\begin{matrix}-1 & 0\\\\-2 & 0\\\\0 & 0\\end{matrix}\\right]$"
      ],
      "text/plain": [
       "Matrix([\n",
       "[-1, 0],\n",
       "[-2, 0],\n",
       "[ 0, 0]])"
      ]
     },
     "execution_count": 277,
     "metadata": {},
     "output_type": "execute_result"
    }
   ],
   "source": [
    "A, B, L = получить_матрицы_варианта(19)\n",
    "A = sympy.Matrix(A)\n",
    "B = sympy.Matrix(B)\n",
    "L = sympy.Matrix(L)\n",
    "L"
   ]
  },
  {
   "cell_type": "code",
   "execution_count": 278,
   "metadata": {},
   "outputs": [],
   "source": [
    "def матрица_управляемости(A, B, L):\n",
    "    матрица = sympy.zeros(3, 3)\n",
    "    матрица[:, 0] = B \n",
    "    матрица[:, 1] = A*B\n",
    "    матрица[:, 2] = A**2*B\n",
    "    return матрица"
   ]
  },
  {
   "cell_type": "code",
   "execution_count": 279,
   "metadata": {},
   "outputs": [
    {
     "data": {
      "text/latex": [
       "$\\displaystyle \\left[\\begin{matrix}1 & 42 & 429\\\\2 & -11 & -172\\\\3 & 2 & 55\\end{matrix}\\right]$"
      ],
      "text/plain": [
       "Matrix([\n",
       "[1,  42,  429],\n",
       "[2, -11, -172],\n",
       "[3,   2,   55]])"
      ]
     },
     "execution_count": 279,
     "metadata": {},
     "output_type": "execute_result"
    }
   ],
   "source": [
    "S = матрица_управляемости(A, B, L)\n",
    "S"
   ]
  },
  {
   "cell_type": "code",
   "execution_count": 280,
   "metadata": {},
   "outputs": [
    {
     "data": {
      "text/plain": [
       "'matrix([1,42,429],[2,-11,-172],[3,2,55])'"
      ]
     },
     "execution_count": 280,
     "metadata": {},
     "output_type": "execute_result"
    }
   ],
   "source": [
    "toCopyString(S)"
   ]
  },
  {
   "cell_type": "code",
   "execution_count": 247,
   "metadata": {},
   "outputs": [],
   "source": [
    "def определитель_матрицы_управляемости(S):\n",
    "    определитель = S.det()\n",
    "    # print('Да!' if определитель != 0 else 'Нет :(')\n",
    "    return определитель"
   ]
  },
  {
   "cell_type": "code",
   "execution_count": 281,
   "metadata": {},
   "outputs": [
    {
     "name": "stdout",
     "output_type": "stream",
     "text": [
      "-10680\n"
     ]
    }
   ],
   "source": [
    "print(определитель_матрицы_управляемости(S))"
   ]
  },
  {
   "cell_type": "code",
   "execution_count": 249,
   "metadata": {},
   "outputs": [],
   "source": [
    "def матрица_C(L):\n",
    "    res = sympy.zeros(2, 3)\n",
    "    if L[0, 0] or L[0, 1]:\n",
    "        res[0, 0] = 1\n",
    "        if L[1, 0] or L[1, 1]:\n",
    "            res[1, 1] = 1\n",
    "        else:\n",
    "            res[1, 2] = 1\n",
    "    elif L[1, 0] or L[1, 1]:\n",
    "        res[0, 1] = 1\n",
    "        if L[2, 0] or L[2, 1]:\n",
    "            res[1, 2] = 1\n",
    "    elif L[2, 0] or L[2, 1]:\n",
    "        res[0, 2] = 1\n",
    "    \n",
    "    return res"
   ]
  },
  {
   "cell_type": "code",
   "execution_count": 282,
   "metadata": {},
   "outputs": [
    {
     "data": {
      "text/latex": [
       "$\\displaystyle \\left[\\begin{matrix}1 & 0 & 0\\\\0 & 1 & 0\\end{matrix}\\right]$"
      ],
      "text/plain": [
       "Matrix([\n",
       "[1, 0, 0],\n",
       "[0, 1, 0]])"
      ]
     },
     "execution_count": 282,
     "metadata": {},
     "output_type": "execute_result"
    }
   ],
   "source": [
    "C = матрица_C(L)\n",
    "C"
   ]
  },
  {
   "cell_type": "code",
   "execution_count": 283,
   "metadata": {},
   "outputs": [
    {
     "data": {
      "text/plain": [
       "'matrix([1,0,0],[0,1,0])'"
      ]
     },
     "execution_count": 283,
     "metadata": {},
     "output_type": "execute_result"
    }
   ],
   "source": [
    "toCopyString(C)"
   ]
  },
  {
   "cell_type": "code",
   "execution_count": 349,
   "metadata": {},
   "outputs": [],
   "source": [
    "def вектор_d(A, B, L):\n",
    "    s = sympy.symbols('s')\n",
    "    tmp = (s*sympy.eye(3) - A).inv()*B\n",
    "    tmp = tmp.applyfunc(lambda x: sympy.simplify(x))\n",
    "    highest_denominator = sympy.fraction(tmp[0, 0])[1]\n",
    "    for i in range(3):\n",
    "        if not sympy.div(sympy.fraction(tmp[i, 0])[1], highest_denominator)[1]:\n",
    "            highest_denominator = sympy.fraction(tmp[i, 0])[1]\n",
    "    # print(highest_denominator)\n",
    "    return sympy.Matrix(sympy.Poly(highest_denominator).all_coeffs()[:0:-1])"
   ]
  },
  {
   "cell_type": "code",
   "execution_count": 331,
   "metadata": {},
   "outputs": [
    {
     "name": "stdout",
     "output_type": "stream",
     "text": [
      "s**3 - 21*s**2 + 101*s + 99\n"
     ]
    },
    {
     "data": {
      "text/latex": [
       "$\\displaystyle \\left[\\begin{matrix}99\\\\101\\\\-21\\end{matrix}\\right]$"
      ],
      "text/plain": [
       "Matrix([\n",
       "[ 99],\n",
       "[101],\n",
       "[-21]])"
      ]
     },
     "execution_count": 331,
     "metadata": {},
     "output_type": "execute_result"
    }
   ],
   "source": [
    "d = вектор_d(A, B, L)\n",
    "d"
   ]
  },
  {
   "cell_type": "code",
   "execution_count": 332,
   "metadata": {},
   "outputs": [],
   "source": [
    "def матрица_g(A, B, L):\n",
    "    s = sympy.symbols('s')\n",
    "    tmp = (s*sympy.eye(3) - A).inv()*B\n",
    "    tmp = tmp.applyfunc(lambda x: sympy.simplify(x))\n",
    "    # multiply every element in tmp by denominator of tmp[0, 0]\n",
    "    tmp = tmp.applyfunc(lambda x: sympy.simplify(x*sympy.fraction(tmp[0, 0])[1]))\n",
    "    tmp = tmp.applyfunc(lambda x: sympy.simplify(x*sympy.fraction(tmp[1, 0])[1]))\n",
    "    tmp = tmp.applyfunc(lambda x: sympy.simplify(x*sympy.fraction(tmp[2, 0])[1]))\n",
    "    return tmp"
   ]
  },
  {
   "cell_type": "code",
   "execution_count": 333,
   "metadata": {},
   "outputs": [
    {
     "data": {
      "text/latex": [
       "$\\displaystyle \\left[\\begin{matrix}\\left(s - 11\\right) \\left(s + 32\\right)\\\\2 s^{2} - 53 s + 261\\\\3 s^{2} - 61 s + 316\\end{matrix}\\right]$"
      ],
      "text/plain": [
       "Matrix([\n",
       "[  (s - 11)*(s + 32)],\n",
       "[2*s**2 - 53*s + 261],\n",
       "[3*s**2 - 61*s + 316]])"
      ]
     },
     "execution_count": 333,
     "metadata": {},
     "output_type": "execute_result"
    }
   ],
   "source": [
    "g = матрица_g(A, B, L)\n",
    "g"
   ]
  },
  {
   "cell_type": "code",
   "execution_count": 334,
   "metadata": {},
   "outputs": [],
   "source": [
    "def матрица_L(A, B, L):\n",
    "    s = sympy.symbols('s')\n",
    "    tmp = матрица_g(A, B, L)\n",
    "    res = sympy.zeros(3, 3)\n",
    "    res[0] = sympy.Poly(tmp[0, 0], s).all_coeffs()[::-1]\n",
    "    res[1] = sympy.Poly(tmp[1, 0], s).all_coeffs()[::-1]\n",
    "    res[2] = sympy.Poly(tmp[2, 0], s).all_coeffs()[::-1]\n",
    "    return res.T"
   ]
  },
  {
   "cell_type": "code",
   "execution_count": 335,
   "metadata": {},
   "outputs": [
    {
     "data": {
      "text/latex": [
       "$\\displaystyle \\left[\\begin{matrix}-352 & 21 & 1\\\\261 & -53 & 2\\\\316 & -61 & 3\\end{matrix}\\right]$"
      ],
      "text/plain": [
       "Matrix([\n",
       "[-352,  21, 1],\n",
       "[ 261, -53, 2],\n",
       "[ 316, -61, 3]])"
      ]
     },
     "execution_count": 335,
     "metadata": {},
     "output_type": "execute_result"
    }
   ],
   "source": [
    "matrix_L = матрица_L(A, B, L)\n",
    "matrix_L"
   ]
  },
  {
   "cell_type": "code",
   "execution_count": 288,
   "metadata": {},
   "outputs": [
    {
     "data": {
      "text/plain": [
       "'matrix([-352,21,1],[261,-53,2],[316,-61,3])'"
      ]
     },
     "execution_count": 288,
     "metadata": {},
     "output_type": "execute_result"
    }
   ],
   "source": [
    "toCopyString(matrix_L)"
   ]
  },
  {
   "cell_type": "code",
   "execution_count": 264,
   "metadata": {},
   "outputs": [],
   "source": [
    "def матрица_H(A, B, L):\n",
    "    s = sympy.symbols('s')\n",
    "    C = матрица_C(L)\n",
    "    tmp = (s*sympy.eye(3) - A + B)"
   ]
  },
  {
   "cell_type": "markdown",
   "metadata": {},
   "source": [
    "$ \\alpha \\vec{a} = \\beta $\n",
    "\n",
    "$ \\alpha = (I_H - E_H E_B^{-1}I_B)(L^T)^{-1} $"
   ]
  },
  {
   "cell_type": "code",
   "execution_count": 351,
   "metadata": {},
   "outputs": [],
   "source": [
    "def матрица_ограничения(A, B, L):\n",
    "    res = sympy.zeros(3, 3)\n",
    "    d = вектор_d(A, B, L)\n",
    "    b = sympy.zeros(3, 1)\n",
    "    # print(L)\n",
    "    lambdas = sympy.Matrix([L[i, 0] + L[i, 1]*sympy.I for i in range(3)])\n",
    "    # print(lambdas)\n",
    "    is_first = True\n",
    "    for i, lmbd in enumerate(lambdas):\n",
    "        if lmbd:\n",
    "            if lmbd.is_real:\n",
    "                res[i] = sympy.Matrix([1, lmbd, lmbd**2])\n",
    "                b[i] = -lmbd**3\n",
    "            else:\n",
    "                if is_first:\n",
    "                    angle = sympy.atan2(L[0, 1], L[0, 0])\n",
    "                    module = sympy.sqrt(L[0, 0]**2 + L[0, 1]**2)\n",
    "                    res[i] = sympy.Matrix([1, module*sympy.cos(angle), module**2*sympy.cos(2*angle)])\n",
    "                    b[i] = -module**3*sympy.cos(3*angle)\n",
    "                    is_first = False\n",
    "                else:\n",
    "                    angle = sympy.atan2(L[i, 1], L[i, 0])\n",
    "                    module = sympy.sqrt(L[i, 0]**2 + L[i, 1]**2)\n",
    "                    res[i] = sympy.Matrix([0, module*sympy.sin(angle), module**2*sympy.sin(2*angle)])\n",
    "                    b[i] = -module**3*sympy.sin(3*angle)\n",
    "        else:\n",
    "            res[i, i] = 1\n",
    "            b[i] = d[i]\n",
    "    res = res.T\n",
    "    \n",
    "    a1 = sympy.symbols('a_1')\n",
    "    a2 = sympy.symbols('a_2')\n",
    "    a3 = sympy.symbols('a_3')\n",
    "\n",
    "    a = sympy.Matrix([a1, a2, a3])\n",
    "\n",
    "    # solve system of equations res*a = b\n",
    "    a = res.inv()*b\n",
    "\n",
    "    matrix_L = матрица_L(A, B, L)\n",
    "\n",
    "    return (res.n(), b.n(), a.n())\n"
   ]
  },
  {
   "cell_type": "code",
   "execution_count": 352,
   "metadata": {},
   "outputs": [
    {
     "data": {
      "text/latex": [
       "$\\displaystyle \\left[\\begin{matrix}1.0 & -1.0 & 1.0\\\\1.0 & -2.0 & 4.0\\\\0 & 0 & 1.0\\end{matrix}\\right]$"
      ],
      "text/plain": [
       "Matrix([\n",
       "[1.0, -1.0, 1.0],\n",
       "[1.0, -2.0, 4.0],\n",
       "[  0,    0, 1.0]])"
      ]
     },
     "execution_count": 352,
     "metadata": {},
     "output_type": "execute_result"
    }
   ],
   "source": [
    "alpha, b, a = матрица_ограничения(A, B, L)\n",
    "alpha"
   ]
  },
  {
   "cell_type": "code",
   "execution_count": 353,
   "metadata": {},
   "outputs": [
    {
     "data": {
      "text/plain": [
       "'matrix([1.00000000000000,-1.00000000000000,1.00000000000000],[1.00000000000000,-2.00000000000000,4.00000000000000],[0,0,1.00000000000000])'"
      ]
     },
     "execution_count": 353,
     "metadata": {},
     "output_type": "execute_result"
    }
   ],
   "source": [
    "toCopyString(alpha)"
   ]
  },
  {
   "cell_type": "code",
   "execution_count": 354,
   "metadata": {},
   "outputs": [
    {
     "data": {
      "text/latex": [
       "$\\displaystyle \\left[\\begin{matrix}1.0\\\\8.0\\\\-21.0\\end{matrix}\\right]$"
      ],
      "text/plain": [
       "Matrix([\n",
       "[  1.0],\n",
       "[  8.0],\n",
       "[-21.0]])"
      ]
     },
     "execution_count": 354,
     "metadata": {},
     "output_type": "execute_result"
    }
   ],
   "source": [
    "b"
   ]
  },
  {
   "cell_type": "code",
   "execution_count": 355,
   "metadata": {},
   "outputs": [
    {
     "data": {
      "text/plain": [
       "'matrix([1.00000000000000],[8.00000000000000],[-21.0000000000000])'"
      ]
     },
     "execution_count": 355,
     "metadata": {},
     "output_type": "execute_result"
    }
   ],
   "source": [
    "toCopyString(b)"
   ]
  },
  {
   "cell_type": "code",
   "execution_count": 356,
   "metadata": {},
   "outputs": [
    {
     "data": {
      "text/latex": [
       "$\\displaystyle \\left[\\begin{matrix}-48.0\\\\-70.0\\\\-21.0\\end{matrix}\\right]$"
      ],
      "text/plain": [
       "Matrix([\n",
       "[-48.0],\n",
       "[-70.0],\n",
       "[-21.0]])"
      ]
     },
     "execution_count": 356,
     "metadata": {},
     "output_type": "execute_result"
    }
   ],
   "source": [
    "a"
   ]
  },
  {
   "cell_type": "code",
   "execution_count": 357,
   "metadata": {},
   "outputs": [
    {
     "data": {
      "text/plain": [
       "'matrix([-48.0000000000000],[-70.0000000000000],[-21.0000000000000])'"
      ]
     },
     "execution_count": 357,
     "metadata": {},
     "output_type": "execute_result"
    }
   ],
   "source": [
    "toCopyString(a)"
   ]
  },
  {
   "cell_type": "code",
   "execution_count": 358,
   "metadata": {},
   "outputs": [],
   "source": [
    "def матрица_Iu(A, B, L):\n",
    "    res = sympy.zeros(2, 3)\n",
    "    is_first = True\n",
    "    for i in range(3):\n",
    "        if L[i, 0] or L[i, 1]:\n",
    "            if is_first:\n",
    "                res[0, i] = 1\n",
    "                is_first = False\n",
    "            else:\n",
    "                res[1, i] = 1\n",
    "    return res"
   ]
  },
  {
   "cell_type": "code",
   "execution_count": 359,
   "metadata": {},
   "outputs": [
    {
     "data": {
      "text/latex": [
       "$\\displaystyle \\left[\\begin{matrix}1 & 0 & 0\\\\0 & 1 & 0\\end{matrix}\\right]$"
      ],
      "text/plain": [
       "Matrix([\n",
       "[1, 0, 0],\n",
       "[0, 1, 0]])"
      ]
     },
     "execution_count": 359,
     "metadata": {},
     "output_type": "execute_result"
    }
   ],
   "source": [
    "Iu = матрица_Iu(A, B, L)\n",
    "Iu"
   ]
  },
  {
   "cell_type": "code",
   "execution_count": 360,
   "metadata": {},
   "outputs": [
    {
     "data": {
      "text/plain": [
       "'matrix([1,0,0],[0,1,0])'"
      ]
     },
     "execution_count": 360,
     "metadata": {},
     "output_type": "execute_result"
    }
   ],
   "source": [
    "toCopyString(Iu)"
   ]
  },
  {
   "cell_type": "code",
   "execution_count": 361,
   "metadata": {},
   "outputs": [],
   "source": [
    "def матрица_Cu(A, B, L):\n",
    "    res = sympy.zeros(2, 2)\n",
    "    C_T = матрица_C(L).T\n",
    "    cur_row = 0\n",
    "    for i in range(3):\n",
    "        if C_T[i, 0] or C_T[i, 1]:\n",
    "            res[cur_row, :] = C_T[i, :]\n",
    "            cur_row += 1\n",
    "    return res"
   ]
  },
  {
   "cell_type": "code",
   "execution_count": 362,
   "metadata": {},
   "outputs": [
    {
     "data": {
      "text/latex": [
       "$\\displaystyle \\left[\\begin{matrix}1 & 0\\\\0 & 1\\end{matrix}\\right]$"
      ],
      "text/plain": [
       "Matrix([\n",
       "[1, 0],\n",
       "[0, 1]])"
      ]
     },
     "execution_count": 362,
     "metadata": {},
     "output_type": "execute_result"
    }
   ],
   "source": [
    "Cu = матрица_Cu(A, B, L)\n",
    "Cu"
   ]
  },
  {
   "cell_type": "code",
   "execution_count": 363,
   "metadata": {},
   "outputs": [
    {
     "data": {
      "text/plain": [
       "'matrix([1,0],[0,1])'"
      ]
     },
     "execution_count": 363,
     "metadata": {},
     "output_type": "execute_result"
    }
   ],
   "source": [
    "toCopyString(Cu)"
   ]
  },
  {
   "cell_type": "code",
   "execution_count": 364,
   "metadata": {},
   "outputs": [],
   "source": [
    "def матрица_p(A, B, L):\n",
    "    matrix_L = матрица_L(A, B, L)\n",
    "    Iu = матрица_Iu(A, B, L)\n",
    "    Cu = матрица_Cu(A, B, L)\n",
    "    a = матрица_ограничения(A, B, L)[-1]\n",
    "    d = вектор_d(A, B, L)\n",
    "    res = (Cu.T).inv()*Iu*(matrix_L.inv()).T*(a-d)\n",
    "    return res"
   ]
  },
  {
   "cell_type": "code",
   "execution_count": 365,
   "metadata": {},
   "outputs": [
    {
     "data": {
      "text/latex": [
       "$\\displaystyle \\left[\\begin{matrix}2.92696629213483\\\\23.6741573033708\\end{matrix}\\right]$"
      ],
      "text/plain": [
       "Matrix([\n",
       "[2.92696629213483],\n",
       "[23.6741573033708]])"
      ]
     },
     "execution_count": 365,
     "metadata": {},
     "output_type": "execute_result"
    }
   ],
   "source": [
    "p = матрица_p(A, B, L)\n",
    "p"
   ]
  },
  {
   "cell_type": "code",
   "execution_count": 366,
   "metadata": {},
   "outputs": [
    {
     "data": {
      "text/plain": [
       "'matrix([2.92696629213483],[23.6741573033708])'"
      ]
     },
     "execution_count": 366,
     "metadata": {},
     "output_type": "execute_result"
    }
   ],
   "source": [
    "toCopyString(p)"
   ]
  },
  {
   "cell_type": "code",
   "execution_count": 367,
   "metadata": {},
   "outputs": [
    {
     "name": "stdout",
     "output_type": "stream",
     "text": [
      "1\n",
      "2\n",
      "3\n",
      "4\n",
      "5\n",
      "6\n",
      "7\n",
      "8\n",
      "9\n",
      "10\n",
      "11\n",
      "12\n",
      "13\n",
      "14\n",
      "15\n",
      "16\n",
      "17\n",
      "18\n",
      "19\n",
      "20\n",
      "21\n",
      "22\n",
      "23\n",
      "24\n",
      "25\n",
      "26\n",
      "27\n",
      "28\n",
      "29\n",
      "30\n"
     ]
    }
   ],
   "source": [
    "for var_number in range(1, 31):\n",
    "    A, B, L = получить_матрицы_варианта(var_number)\n",
    "    A = sympy.Matrix(A)\n",
    "    B = sympy.Matrix(B)\n",
    "    L = sympy.Matrix(L)\n",
    "    try:\n",
    "        S                          = матрица_управляемости(A, B, L)\n",
    "        определитель               = определитель_матрицы_управляемости(S)\n",
    "        матрица_C_                 = матрица_C(L)\n",
    "        матрица_L_                 = матрица_L(A, B, L)\n",
    "        левая_матрица_ограничения,\\\n",
    "        правая_матрица_ограничения,\\\n",
    "        матрица_А                  = матрица_ограничения(A, B, L)\n",
    "        Iu                         = матрица_Iu(A, B, L)\n",
    "        Cu                         = матрица_Cu(A, B, L)\n",
    "        p                          = матрица_p(A, B, L)\n",
    "\n",
    "        print(var_number)\n",
    "        with open(f'./results/{var_number}.txt', 'w') as file:\n",
    "            file.write(toCopyString(S) + '\\n')\n",
    "            file.write(str(определитель) + '\\n')\n",
    "            file.write(toCopyString(матрица_C_) + '\\n')\n",
    "            file.write(toCopyString(матрица_L_) + '\\n')\n",
    "            file.write(toCopyString(левая_матрица_ограничения) + '\\n')\n",
    "            file.write(toCopyString(правая_матрица_ограничения) + '\\n')\n",
    "            file.write(toCopyString(матрица_А) + '\\n')\n",
    "            file.write(toCopyString(Iu) + '\\n')\n",
    "            file.write(toCopyString(Cu) + '\\n')\n",
    "            file.write(toCopyString(p) + '\\n')\n",
    "    except:\n",
    "        pass\n",
    "        "
   ]
  }
 ],
 "metadata": {
  "interpreter": {
   "hash": "568d99031516cb91b124139a50c43e0e628ee43803acee1edec6cbd47ca74668"
  },
  "kernelspec": {
   "display_name": "Python 3.10.2 64-bit",
   "language": "python",
   "name": "python3"
  },
  "language_info": {
   "codemirror_mode": {
    "name": "ipython",
    "version": 3
   },
   "file_extension": ".py",
   "mimetype": "text/x-python",
   "name": "python",
   "nbconvert_exporter": "python",
   "pygments_lexer": "ipython3",
   "version": "3.10.2"
  },
  "orig_nbformat": 4
 },
 "nbformat": 4,
 "nbformat_minor": 2
}
