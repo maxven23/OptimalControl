{
 "cells": [
  {
   "cell_type": "code",
   "execution_count": 1,
   "metadata": {},
   "outputs": [],
   "source": [
    "import numpy as np\n",
    "import sympy\n",
    "import csv\n",
    "from json import loads\n",
    "\n",
    "lab_number = '2.2.1'\n",
    "var_number = 24\n",
    "\n",
    "\n",
    "def toCopyString(matrix) -> str:\n",
    "    return 'matrix(' + str(matrix).replace('Matrix([', '[').replace('])', ']')[1:-1].replace(' ', '') + ')'\n",
    "\n",
    "def fromCopyString(string: str):\n",
    "    return loads(string.replace('matrix(', '[').replace(')', ']'))\n",
    "\n",
    "def получить_матрицы_варианта(number):\n",
    "    filename = f'./{lab_number}_variants.txt'\n",
    "    with open(filename, 'r') as file:\n",
    "        variants = csv.reader(file, delimiter=',')\n",
    "        variant = list(variants)[number - 1][1].split(';')\n",
    "        A = fromCopyString(variant[0])\n",
    "        B = fromCopyString(variant[1])\n",
    "        L = fromCopyString(variant[2])\n",
    "    return A, B, L"
   ]
  },
  {
   "cell_type": "code",
   "execution_count": 2,
   "metadata": {},
   "outputs": [
    {
     "data": {
      "text/latex": [
       "$\\displaystyle \\left[\\begin{matrix}0 & 0\\\\-1 & 2\\\\-1 & -2\\end{matrix}\\right]$"
      ],
      "text/plain": [
       "Matrix([\n",
       "[ 0,  0],\n",
       "[-1,  2],\n",
       "[-1, -2]])"
      ]
     },
     "execution_count": 2,
     "metadata": {},
     "output_type": "execute_result"
    }
   ],
   "source": [
    "A, B, L = получить_матрицы_варианта(var_number)\n",
    "A = sympy.Matrix(A)\n",
    "B = sympy.Matrix(B)\n",
    "L = sympy.Matrix(L)\n",
    "L"
   ]
  },
  {
   "cell_type": "code",
   "execution_count": 3,
   "metadata": {},
   "outputs": [],
   "source": [
    "def матрица_управляемости(A, B, L):\n",
    "    матрица = sympy.zeros(3, 3)\n",
    "    матрица[:, 0] = B \n",
    "    матрица[:, 1] = A*B\n",
    "    матрица[:, 2] = A**2*B\n",
    "    return матрица"
   ]
  },
  {
   "cell_type": "code",
   "execution_count": 4,
   "metadata": {},
   "outputs": [
    {
     "data": {
      "text/latex": [
       "$\\displaystyle \\left[\\begin{matrix}-2 & 4 & -17\\\\-1 & -1 & -7\\\\10 & -23 & 55\\end{matrix}\\right]$"
      ],
      "text/plain": [
       "Matrix([\n",
       "[-2,   4, -17],\n",
       "[-1,  -1,  -7],\n",
       "[10, -23,  55]])"
      ]
     },
     "execution_count": 4,
     "metadata": {},
     "output_type": "execute_result"
    }
   ],
   "source": [
    "S = матрица_управляемости(A, B, L)\n",
    "S"
   ]
  },
  {
   "cell_type": "code",
   "execution_count": 5,
   "metadata": {},
   "outputs": [
    {
     "data": {
      "text/plain": [
       "'matrix([-2,4,-17],[-1,-1,-7],[10,-23,55])'"
      ]
     },
     "execution_count": 5,
     "metadata": {},
     "output_type": "execute_result"
    }
   ],
   "source": [
    "toCopyString(S)"
   ]
  },
  {
   "cell_type": "code",
   "execution_count": 6,
   "metadata": {},
   "outputs": [],
   "source": [
    "def определитель_матрицы_управляемости(S):\n",
    "    определитель = S.det()\n",
    "    # print('Да!' if определитель != 0 else 'Нет :(')\n",
    "    return определитель"
   ]
  },
  {
   "cell_type": "code",
   "execution_count": 7,
   "metadata": {},
   "outputs": [
    {
     "name": "stdout",
     "output_type": "stream",
     "text": [
      "-189\n"
     ]
    }
   ],
   "source": [
    "print(определитель_матрицы_управляемости(S))"
   ]
  },
  {
   "cell_type": "code",
   "execution_count": 8,
   "metadata": {},
   "outputs": [],
   "source": [
    "def матрица_C(L):\n",
    "    res = sympy.zeros(2, 3)\n",
    "    if L[0, 0] or L[0, 1]:\n",
    "        res[0, 0] = 1\n",
    "        if L[1, 0] or L[1, 1]:\n",
    "            res[1, 1] = 1\n",
    "        else:\n",
    "            res[1, 2] = 1\n",
    "    elif L[1, 0] or L[1, 1]:\n",
    "        res[0, 1] = 1\n",
    "        if L[2, 0] or L[2, 1]:\n",
    "            res[1, 2] = 1\n",
    "    elif L[2, 0] or L[2, 1]:\n",
    "        res[0, 2] = 1\n",
    "    \n",
    "    return res"
   ]
  },
  {
   "cell_type": "code",
   "execution_count": 9,
   "metadata": {},
   "outputs": [
    {
     "data": {
      "text/latex": [
       "$\\displaystyle \\left[\\begin{matrix}0 & 1 & 0\\\\0 & 0 & 1\\end{matrix}\\right]$"
      ],
      "text/plain": [
       "Matrix([\n",
       "[0, 1, 0],\n",
       "[0, 0, 1]])"
      ]
     },
     "execution_count": 9,
     "metadata": {},
     "output_type": "execute_result"
    }
   ],
   "source": [
    "C = матрица_C(L)\n",
    "C"
   ]
  },
  {
   "cell_type": "code",
   "execution_count": 10,
   "metadata": {},
   "outputs": [
    {
     "data": {
      "text/plain": [
       "'matrix([0,1,0],[0,0,1])'"
      ]
     },
     "execution_count": 10,
     "metadata": {},
     "output_type": "execute_result"
    }
   ],
   "source": [
    "toCopyString(C)"
   ]
  },
  {
   "cell_type": "code",
   "execution_count": 11,
   "metadata": {},
   "outputs": [],
   "source": [
    "def вектор_d(A, B, L):\n",
    "    s = sympy.symbols('s')\n",
    "    tmp = (s*sympy.eye(3) - A).inv()*B\n",
    "    tmp = tmp.applyfunc(lambda x: sympy.simplify(x))\n",
    "    highest_denominator = sympy.fraction(tmp[0, 0])[1]\n",
    "    for i in range(3):\n",
    "        if not sympy.div(sympy.fraction(tmp[i, 0])[1], highest_denominator)[1]:\n",
    "            highest_denominator = sympy.fraction(tmp[i, 0])[1]\n",
    "    # print(highest_denominator)\n",
    "    return sympy.Matrix(sympy.Poly(highest_denominator).all_coeffs()[:0:-1])"
   ]
  },
  {
   "cell_type": "code",
   "execution_count": 12,
   "metadata": {},
   "outputs": [
    {
     "data": {
      "text/latex": [
       "$\\displaystyle \\left[\\begin{matrix}-36\\\\-24\\\\-1\\end{matrix}\\right]$"
      ],
      "text/plain": [
       "Matrix([\n",
       "[-36],\n",
       "[-24],\n",
       "[ -1]])"
      ]
     },
     "execution_count": 12,
     "metadata": {},
     "output_type": "execute_result"
    }
   ],
   "source": [
    "d = вектор_d(A, B, L)\n",
    "d"
   ]
  },
  {
   "cell_type": "code",
   "execution_count": 13,
   "metadata": {},
   "outputs": [],
   "source": [
    "def матрица_g(A, B, L):\n",
    "    s = sympy.symbols('s')\n",
    "    tmp = (s*sympy.eye(3) - A).inv()*B\n",
    "    tmp = tmp.applyfunc(lambda x: sympy.simplify(x))\n",
    "    # multiply every element in tmp by denominator of tmp[0, 0]\n",
    "    tmp = tmp.applyfunc(lambda x: sympy.simplify(x*sympy.fraction(tmp[0, 0])[1]))\n",
    "    tmp = tmp.applyfunc(lambda x: sympy.simplify(x*sympy.fraction(tmp[1, 0])[1]))\n",
    "    tmp = tmp.applyfunc(lambda x: sympy.simplify(x*sympy.fraction(tmp[2, 0])[1]))\n",
    "    return tmp"
   ]
  },
  {
   "cell_type": "code",
   "execution_count": 14,
   "metadata": {},
   "outputs": [
    {
     "data": {
      "text/latex": [
       "$\\displaystyle \\left[\\begin{matrix}- 2 s^{2} + 6 s + 27\\\\18 - s^{2}\\\\10 s^{2} - 33 s - 162\\end{matrix}\\right]$"
      ],
      "text/plain": [
       "Matrix([\n",
       "[  -2*s**2 + 6*s + 27],\n",
       "[           18 - s**2],\n",
       "[10*s**2 - 33*s - 162]])"
      ]
     },
     "execution_count": 14,
     "metadata": {},
     "output_type": "execute_result"
    }
   ],
   "source": [
    "g = матрица_g(A, B, L)\n",
    "g"
   ]
  },
  {
   "cell_type": "code",
   "execution_count": 15,
   "metadata": {},
   "outputs": [],
   "source": [
    "def матрица_L(A, B, L):\n",
    "    s = sympy.symbols('s')\n",
    "    tmp = матрица_g(A, B, L)\n",
    "    res = sympy.zeros(3, 3)\n",
    "    res[0] = sympy.Poly(tmp[0, 0], s).all_coeffs()[::-1]\n",
    "    res[1] = sympy.Poly(tmp[1, 0], s).all_coeffs()[::-1]\n",
    "    res[2] = sympy.Poly(tmp[2, 0], s).all_coeffs()[::-1]\n",
    "    return res.T"
   ]
  },
  {
   "cell_type": "code",
   "execution_count": 16,
   "metadata": {},
   "outputs": [],
   "source": [
    "def matrix_L_(A, B, L):\n",
    "    B0 = sympy.eye(3)\n",
    "    f1 = -sympy.trace(A)\n",
    "    g1 = B.copy()\n",
    "    B1 = B0*A + f1*sympy.eye(3)\n",
    "    f2 = -sympy.trace(B1*A) / 2\n",
    "    g2 = B1*B\n",
    "    B2 = B1*A + f2*sympy.eye(3)\n",
    "    f3 = -sympy.trace(B2*A) / 3\n",
    "    g3 = B2*B\n",
    "\n",
    "    d = sympy.Matrix([f3, f2, f1])\n",
    "    L = sympy.Matrix([g3.T, g2.T, g1.T])\n",
    "    return L.T"
   ]
  },
  {
   "cell_type": "code",
   "execution_count": 17,
   "metadata": {},
   "outputs": [],
   "source": [
    "def vector_d(A, B, L):\n",
    "    B0 = sympy.eye(3)\n",
    "    f1 = -sympy.trace(A)\n",
    "    B1 = B0*A + f1*sympy.eye(3)\n",
    "    f2 = -sympy.trace(B1*A) / 2\n",
    "    B2 = B1*A + f2*sympy.eye(3)\n",
    "    f3 = -sympy.trace(B2*A) / 3\n",
    "\n",
    "    d = sympy.Matrix([f3, f2, f1])\n",
    "    return d"
   ]
  },
  {
   "cell_type": "code",
   "execution_count": 18,
   "metadata": {},
   "outputs": [
    {
     "data": {
      "text/latex": [
       "$\\displaystyle \\left[\\begin{matrix}-36\\\\-24\\\\-1\\end{matrix}\\right]$"
      ],
      "text/plain": [
       "Matrix([\n",
       "[-36],\n",
       "[-24],\n",
       "[ -1]])"
      ]
     },
     "execution_count": 18,
     "metadata": {},
     "output_type": "execute_result"
    }
   ],
   "source": [
    "d = vector_d(A, B, L)\n",
    "d"
   ]
  },
  {
   "cell_type": "code",
   "execution_count": 19,
   "metadata": {},
   "outputs": [
    {
     "data": {
      "text/latex": [
       "$\\displaystyle \\left[\\begin{matrix}27 & 6 & -2\\\\18 & 0 & -1\\\\-162 & -33 & 10\\end{matrix}\\right]$"
      ],
      "text/plain": [
       "Matrix([\n",
       "[  27,   6, -2],\n",
       "[  18,   0, -1],\n",
       "[-162, -33, 10]])"
      ]
     },
     "execution_count": 19,
     "metadata": {},
     "output_type": "execute_result"
    }
   ],
   "source": [
    "matrix_L = матрица_L(A, B, L)\n",
    "matrix_L"
   ]
  },
  {
   "cell_type": "code",
   "execution_count": 20,
   "metadata": {},
   "outputs": [
    {
     "data": {
      "text/latex": [
       "$\\displaystyle \\left[\\begin{matrix}27 & 6 & -2\\\\18 & 0 & -1\\\\-162 & -33 & 10\\end{matrix}\\right]$"
      ],
      "text/plain": [
       "Matrix([\n",
       "[  27,   6, -2],\n",
       "[  18,   0, -1],\n",
       "[-162, -33, 10]])"
      ]
     },
     "execution_count": 20,
     "metadata": {},
     "output_type": "execute_result"
    }
   ],
   "source": [
    "matrix_L_1 = matrix_L_(A, B, L)\n",
    "matrix_L_1"
   ]
  },
  {
   "cell_type": "code",
   "execution_count": 21,
   "metadata": {},
   "outputs": [
    {
     "data": {
      "text/plain": [
       "'matrix([27,6,-2],[18,0,-1],[-162,-33,10])'"
      ]
     },
     "execution_count": 21,
     "metadata": {},
     "output_type": "execute_result"
    }
   ],
   "source": [
    "toCopyString(matrix_L)\n",
    "# [::-1]"
   ]
  },
  {
   "cell_type": "code",
   "execution_count": 22,
   "metadata": {},
   "outputs": [
    {
     "data": {
      "text/plain": [
       "'matrix([27,6,-2],[18,0,-1],[-162,-33,10])'"
      ]
     },
     "execution_count": 22,
     "metadata": {},
     "output_type": "execute_result"
    }
   ],
   "source": [
    "toCopyString(matrix_L_1)"
   ]
  },
  {
   "cell_type": "code",
   "execution_count": 23,
   "metadata": {},
   "outputs": [],
   "source": [
    "def матрица_H(A, B, L):\n",
    "    s = sympy.symbols('s')\n",
    "    C = матрица_C(L)\n",
    "    tmp = (s*sympy.eye(3) - A + B)"
   ]
  },
  {
   "cell_type": "markdown",
   "metadata": {},
   "source": [
    "$ \\alpha \\vec{a} = \\beta $\n",
    "\n",
    "$ \\alpha = (I_H - E_H E_B^{-1}I_B)(L^T)^{-1} $"
   ]
  },
  {
   "cell_type": "code",
   "execution_count": 42,
   "metadata": {},
   "outputs": [],
   "source": [
    "def матрица_ограничения(A, B, L):\n",
    "    res = sympy.zeros(3, 3)\n",
    "    d = vector_d(A, B, L)\n",
    "    b = sympy.zeros(3, 1)\n",
    "    lambdas = sympy.Matrix([L[i, 0] + L[i, 1]*sympy.I for i in range(3)])\n",
    "    is_first = True\n",
    "    for i, lmbd in enumerate(lambdas):\n",
    "        if lmbd:\n",
    "            if lmbd.is_real:\n",
    "                res[i] = sympy.Matrix([1, lmbd, lmbd**2])\n",
    "                b[i] = -lmbd**3\n",
    "            else:\n",
    "                print(lmbd)\n",
    "                \n",
    "                if sympy.im(lmbd) < 0:\n",
    "                    lmbd = lmbd.conjugate()\n",
    "                angle = sympy.arg(lmbd).n()\n",
    "                module = sympy.sqrt(lmbd*sympy.conjugate(lmbd)).n()\n",
    "                print(module)\n",
    "                print(angle)\n",
    "                print(sympy.cos(angle))\n",
    "                print(sympy.sin(angle))\n",
    "\n",
    "                if angle < 0:\n",
    "                    angle += sympy.pi\n",
    "                if is_first:\n",
    "                    res[i] = sympy.Matrix([1, module*sympy.cos(angle), module**2*sympy.cos(2*angle)])\n",
    "                    b[i] = -module**3*sympy.cos(3*angle)\n",
    "                    is_first = False\n",
    "                else:\n",
    "                    res[i] = sympy.Matrix([0, module*sympy.sin(angle), module**2*sympy.sin(2*angle)])\n",
    "                    b[i] = -module**3*sympy.sin(3*angle)\n",
    "        else:\n",
    "            res[i, i] = 1\n",
    "            b[i] = d[i]\n",
    "    res = res.n().T\n",
    "    \n",
    "    a = res.inv()*b\n",
    "\n",
    "    return (res, b.n(), a.n())\n"
   ]
  },
  {
   "cell_type": "code",
   "execution_count": 43,
   "metadata": {},
   "outputs": [
    {
     "name": "stdout",
     "output_type": "stream",
     "text": [
      "-1 + 2*I\n",
      "2.23606797749979\n",
      "2.03444393579570\n",
      "-0.447213595499958\n",
      "0.894427190999916\n",
      "-1 - 2*I\n",
      "2.23606797749979\n",
      "2.03444393579570\n",
      "-0.447213595499958\n",
      "0.894427190999916\n"
     ]
    },
    {
     "data": {
      "text/latex": [
       "$\\displaystyle \\left[\\begin{matrix}1.0 & 0 & 0\\\\1.0 & -1.0 & -3.0\\\\0 & 2.0 & -4.0\\end{matrix}\\right]$"
      ],
      "text/plain": [
       "Matrix([\n",
       "[1.0,    0,    0],\n",
       "[1.0, -1.0, -3.0],\n",
       "[  0,  2.0, -4.0]])"
      ]
     },
     "execution_count": 43,
     "metadata": {},
     "output_type": "execute_result"
    }
   ],
   "source": [
    "alpha, b, a = матрица_ограничения(A, B, L)\n",
    "alpha"
   ]
  },
  {
   "cell_type": "code",
   "execution_count": 26,
   "metadata": {},
   "outputs": [
    {
     "data": {
      "text/plain": [
       "'matrix([1.00000000000000,0,0],[1.00000000000000,-1.00000000000000,-3.00000000000000],[0,2.00000000000000,-4.00000000000000])'"
      ]
     },
     "execution_count": 26,
     "metadata": {},
     "output_type": "execute_result"
    }
   ],
   "source": [
    "toCopyString(alpha)"
   ]
  },
  {
   "cell_type": "code",
   "execution_count": 27,
   "metadata": {},
   "outputs": [
    {
     "data": {
      "text/latex": [
       "$\\displaystyle \\left[\\begin{matrix}-36.0\\\\-11.0\\\\2.0\\end{matrix}\\right]$"
      ],
      "text/plain": [
       "Matrix([\n",
       "[-36.0],\n",
       "[-11.0],\n",
       "[  2.0]])"
      ]
     },
     "execution_count": 27,
     "metadata": {},
     "output_type": "execute_result"
    }
   ],
   "source": [
    "b"
   ]
  },
  {
   "cell_type": "code",
   "execution_count": 28,
   "metadata": {},
   "outputs": [
    {
     "data": {
      "text/plain": [
       "'matrix([-36.0000000000000],[-11.0000000000000],[2.00000000000000])'"
      ]
     },
     "execution_count": 28,
     "metadata": {},
     "output_type": "execute_result"
    }
   ],
   "source": [
    "toCopyString(b)"
   ]
  },
  {
   "cell_type": "code",
   "execution_count": 29,
   "metadata": {},
   "outputs": [
    {
     "data": {
      "text/latex": [
       "$\\displaystyle \\left[\\begin{matrix}-36.0\\\\-9.4\\\\-5.2\\end{matrix}\\right]$"
      ],
      "text/plain": [
       "Matrix([\n",
       "[-36.0],\n",
       "[ -9.4],\n",
       "[ -5.2]])"
      ]
     },
     "execution_count": 29,
     "metadata": {},
     "output_type": "execute_result"
    }
   ],
   "source": [
    "a"
   ]
  },
  {
   "cell_type": "code",
   "execution_count": 30,
   "metadata": {},
   "outputs": [
    {
     "data": {
      "text/plain": [
       "'matrix([-36.0000000000000],[-9.40000000000000],[-5.20000000000000])'"
      ]
     },
     "execution_count": 30,
     "metadata": {},
     "output_type": "execute_result"
    }
   ],
   "source": [
    "toCopyString(a)"
   ]
  },
  {
   "cell_type": "code",
   "execution_count": 31,
   "metadata": {},
   "outputs": [],
   "source": [
    "def матрица_Iu(A, B, L):\n",
    "    res = sympy.zeros(2, 3)\n",
    "    is_first = True\n",
    "    for i in range(3):\n",
    "        if L[i, 0] or L[i, 1]:\n",
    "            if is_first:\n",
    "                res[0, i] = 1\n",
    "                is_first = False\n",
    "            else:\n",
    "                res[1, i] = 1\n",
    "    return res"
   ]
  },
  {
   "cell_type": "code",
   "execution_count": 32,
   "metadata": {},
   "outputs": [
    {
     "data": {
      "text/latex": [
       "$\\displaystyle \\left[\\begin{matrix}0 & 1 & 0\\\\0 & 0 & 1\\end{matrix}\\right]$"
      ],
      "text/plain": [
       "Matrix([\n",
       "[0, 1, 0],\n",
       "[0, 0, 1]])"
      ]
     },
     "execution_count": 32,
     "metadata": {},
     "output_type": "execute_result"
    }
   ],
   "source": [
    "Iu = матрица_Iu(A, B, L)\n",
    "Iu"
   ]
  },
  {
   "cell_type": "code",
   "execution_count": 33,
   "metadata": {},
   "outputs": [
    {
     "data": {
      "text/plain": [
       "'matrix([0,1,0],[0,0,1])'"
      ]
     },
     "execution_count": 33,
     "metadata": {},
     "output_type": "execute_result"
    }
   ],
   "source": [
    "toCopyString(Iu)"
   ]
  },
  {
   "cell_type": "code",
   "execution_count": 34,
   "metadata": {},
   "outputs": [],
   "source": [
    "def матрица_Cu(A, B, L):\n",
    "    res = sympy.zeros(2, 2)\n",
    "    C_T = матрица_C(L).T\n",
    "    cur_row = 0\n",
    "    for i in range(3):\n",
    "        if C_T[i, 0] or C_T[i, 1]:\n",
    "            res[cur_row, :] = C_T[i, :]\n",
    "            cur_row += 1\n",
    "    return res"
   ]
  },
  {
   "cell_type": "code",
   "execution_count": 35,
   "metadata": {},
   "outputs": [
    {
     "data": {
      "text/latex": [
       "$\\displaystyle \\left[\\begin{matrix}1 & 0\\\\0 & 1\\end{matrix}\\right]$"
      ],
      "text/plain": [
       "Matrix([\n",
       "[1, 0],\n",
       "[0, 1]])"
      ]
     },
     "execution_count": 35,
     "metadata": {},
     "output_type": "execute_result"
    }
   ],
   "source": [
    "Cu = матрица_Cu(A, B, L)\n",
    "Cu"
   ]
  },
  {
   "cell_type": "code",
   "execution_count": 36,
   "metadata": {},
   "outputs": [
    {
     "data": {
      "text/plain": [
       "'matrix([1,0],[0,1])'"
      ]
     },
     "execution_count": 36,
     "metadata": {},
     "output_type": "execute_result"
    }
   ],
   "source": [
    "toCopyString(Cu)"
   ]
  },
  {
   "cell_type": "code",
   "execution_count": 37,
   "metadata": {},
   "outputs": [],
   "source": [
    "def матрица_p(A, B, L):\n",
    "    matrix_L = matrix_L_(A, B, L)\n",
    "    Iu = матрица_Iu(A, B, L)\n",
    "    Cu = матрица_Cu(A, B, L)\n",
    "    a = матрица_ограничения(A, B, L)[-1]\n",
    "    d = vector_d(A, B, L)\n",
    "    res = (Cu.T).inv()*Iu*(matrix_L.inv()).T*(a-d)\n",
    "    return res"
   ]
  },
  {
   "cell_type": "code",
   "execution_count": 38,
   "metadata": {},
   "outputs": [
    {
     "data": {
      "text/latex": [
       "$\\displaystyle \\left[\\begin{matrix}-2.37142857142857\\\\1.7047619047619\\end{matrix}\\right]$"
      ],
      "text/plain": [
       "Matrix([\n",
       "[-2.37142857142857],\n",
       "[  1.7047619047619]])"
      ]
     },
     "execution_count": 38,
     "metadata": {},
     "output_type": "execute_result"
    }
   ],
   "source": [
    "p = матрица_p(A, B, L)\n",
    "p"
   ]
  },
  {
   "cell_type": "code",
   "execution_count": 39,
   "metadata": {},
   "outputs": [
    {
     "data": {
      "text/plain": [
       "'matrix([-2.37142857142857],[1.70476190476190])'"
      ]
     },
     "execution_count": 39,
     "metadata": {},
     "output_type": "execute_result"
    }
   ],
   "source": [
    "toCopyString(p)"
   ]
  },
  {
   "cell_type": "code",
   "execution_count": 324,
   "metadata": {},
   "outputs": [
    {
     "name": "stdout",
     "output_type": "stream",
     "text": [
      "20\n",
      "21\n",
      "22\n",
      "23\n",
      "24\n",
      "25\n",
      "26\n",
      "27\n",
      "28\n",
      "29\n",
      "30\n"
     ]
    }
   ],
   "source": [
    "for var_number in range(24, 25):\n",
    "    A, B, L = получить_матрицы_варианта(var_number)\n",
    "    A = sympy.Matrix(A)\n",
    "    B = sympy.Matrix(B)\n",
    "    L = sympy.Matrix(L)\n",
    "    try:\n",
    "        S                          = матрица_управляемости(A, B, L)\n",
    "        определитель               = определитель_матрицы_управляемости(S)\n",
    "        матрица_C_                 = матрица_C(L)\n",
    "        матрица_L_                 = matrix_L_(A, B, L)\n",
    "        левая_матрица_ограничения,\\\n",
    "        правая_матрица_ограничения,\\\n",
    "        матрица_А                  = матрица_ограничения(A, B, L)\n",
    "        Iu                         = матрица_Iu(A, B, L)\n",
    "        Cu                         = матрица_Cu(A, B, L)\n",
    "        p                          = матрица_p(A, B, L)\n",
    "\n",
    "        print(var_number)\n",
    "        with open(f'./results/{var_number}.txt', 'w') as file:\n",
    "            file.write(toCopyString(S) + '\\n')\n",
    "            file.write(str(определитель) + '\\n')\n",
    "            file.write(toCopyString(матрица_C_) + '\\n')\n",
    "            file.write(toCopyString(матрица_L_) + '\\n')\n",
    "            file.write(toCopyString(левая_матрица_ограничения) + '\\n')\n",
    "            file.write(toCopyString(правая_матрица_ограничения) + '\\n')\n",
    "            file.write(toCopyString(матрица_А) + '\\n')\n",
    "            file.write(toCopyString(Iu) + '\\n')\n",
    "            file.write(toCopyString(Cu) + '\\n')\n",
    "            file.write(toCopyString(p) + '\\n')\n",
    "    # catch error\n",
    "    except Exception as e:\n",
    "        print(f'Error in {var_number}: {e}')   \n",
    "        "
   ]
  },
  {
   "cell_type": "code",
   "execution_count": null,
   "metadata": {},
   "outputs": [],
   "source": []
  }
 ],
 "metadata": {
  "interpreter": {
   "hash": "568d99031516cb91b124139a50c43e0e628ee43803acee1edec6cbd47ca74668"
  },
  "kernelspec": {
   "display_name": "Python 3.10.2 64-bit",
   "language": "python",
   "name": "python3"
  },
  "language_info": {
   "codemirror_mode": {
    "name": "ipython",
    "version": 3
   },
   "file_extension": ".py",
   "mimetype": "text/x-python",
   "name": "python",
   "nbconvert_exporter": "python",
   "pygments_lexer": "ipython3",
   "version": "3.10.2"
  },
  "orig_nbformat": 4
 },
 "nbformat": 4,
 "nbformat_minor": 2
}
