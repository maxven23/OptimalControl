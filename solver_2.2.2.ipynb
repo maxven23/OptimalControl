{
 "cells": [
  {
   "cell_type": "code",
   "execution_count": 1,
   "metadata": {},
   "outputs": [],
   "source": [
    "import numpy as np\n",
    "import sympy\n",
    "import csv\n",
    "from json import loads\n",
    "\n",
    "lab_number = '2.2.2'\n",
    "\n",
    "\n",
    "def toCopyString(matrix) -> str:\n",
    "    return 'matrix(' + str(matrix).replace('Matrix([', '[').replace('])', ']')[1:-1].replace(' ', '') + ')'\n",
    "\n",
    "def fromCopyString(string: str):\n",
    "    return loads(string.replace('matrix(', '[').replace(')', ']'))\n",
    "\n",
    "def получить_матрицы_варианта(number):\n",
    "    filename = f'./{lab_number}_variants.txt'\n",
    "    with open(filename, 'r') as file:\n",
    "        variants = csv.reader(file, delimiter=',')\n",
    "        variant = list(variants)[number - 1][1].split(';')\n",
    "        A = fromCopyString(variant[0])\n",
    "        B = fromCopyString(variant[1])\n",
    "        L = fromCopyString(variant[2])\n",
    "        C = fromCopyString(variant[3])\n",
    "    return A, B, L, C"
   ]
  },
  {
   "cell_type": "code",
   "execution_count": 96,
   "metadata": {},
   "outputs": [
    {
     "data": {
      "text/latex": [
       "$\\displaystyle \\left[\\begin{matrix}1 & -3 & 0\\\\-2 & -1 & 0\\end{matrix}\\right]$"
      ],
      "text/plain": [
       "Matrix([\n",
       "[ 1, -3, 0],\n",
       "[-2, -1, 0]])"
      ]
     },
     "execution_count": 96,
     "metadata": {},
     "output_type": "execute_result"
    }
   ],
   "source": [
    "A, B, L, C = получить_матрицы_варианта(13)\n",
    "A = sympy.Matrix(A)\n",
    "B = sympy.Matrix(B)\n",
    "L = sympy.Matrix(L)\n",
    "C = sympy.Matrix(C)\n",
    "C"
   ]
  },
  {
   "cell_type": "code",
   "execution_count": 97,
   "metadata": {},
   "outputs": [],
   "source": [
    "def матрица_управляемости(A, B, L):\n",
    "    матрица = sympy.zeros(3, 6)\n",
    "    матрица[:, 0:2] = B \n",
    "    матрица[:, 2:4] = A*B\n",
    "    матрица[:, 4:] = A**2*B\n",
    "    return матрица"
   ]
  },
  {
   "cell_type": "code",
   "execution_count": 98,
   "metadata": {},
   "outputs": [
    {
     "data": {
      "text/latex": [
       "$\\displaystyle \\left[\\begin{matrix}2 & 2 & 20 & 14 & 140 & 94\\\\-4 & -2 & -19 & -12 & -118 & -78\\\\3 & 2 & 21 & 14 & 141 & 94\\end{matrix}\\right]$"
      ],
      "text/plain": [
       "Matrix([\n",
       "[ 2,  2,  20,  14,  140,  94],\n",
       "[-4, -2, -19, -12, -118, -78],\n",
       "[ 3,  2,  21,  14,  141,  94]])"
      ]
     },
     "execution_count": 98,
     "metadata": {},
     "output_type": "execute_result"
    }
   ],
   "source": [
    "S = матрица_управляемости(A, B, L)\n",
    "S"
   ]
  },
  {
   "cell_type": "code",
   "execution_count": 99,
   "metadata": {},
   "outputs": [
    {
     "data": {
      "text/plain": [
       "'matrix([2,2,20,14,140,94],[-4,-2,-19,-12,-118,-78],[3,2,21,14,141,94])'"
      ]
     },
     "execution_count": 99,
     "metadata": {},
     "output_type": "execute_result"
    }
   ],
   "source": [
    "toCopyString(S)"
   ]
  },
  {
   "cell_type": "code",
   "execution_count": 100,
   "metadata": {},
   "outputs": [],
   "source": [
    "def определитель_матрицы_управляемости(S):\n",
    "    определитель = S[:, :3].det()\n",
    "    # print('Да!' if определитель != 0 else 'Нет :(')\n",
    "    return определитель"
   ]
  },
  {
   "cell_type": "code",
   "execution_count": 101,
   "metadata": {},
   "outputs": [
    {
     "name": "stdout",
     "output_type": "stream",
     "text": [
      "6\n"
     ]
    }
   ],
   "source": [
    "print(определитель_матрицы_управляемости(S))"
   ]
  },
  {
   "cell_type": "code",
   "execution_count": 102,
   "metadata": {},
   "outputs": [],
   "source": [
    "def матрица_желаемых_коэффициентов(L):\n",
    "    res = sympy.zeros(3, 1)\n",
    "    res[2, 0] = -sum(L)\n",
    "    res[1, 0] = L[0]*L[1] + L[1]*L[2] + L[2]*L[0]\n",
    "    res[0, 0] = -L[0]*L[1]*L[2]\n",
    "    return res"
   ]
  },
  {
   "cell_type": "code",
   "execution_count": 103,
   "metadata": {},
   "outputs": [
    {
     "data": {
      "text/latex": [
       "$\\displaystyle \\left[\\begin{matrix}4\\\\8\\\\5\\end{matrix}\\right]$"
      ],
      "text/plain": [
       "Matrix([\n",
       "[4],\n",
       "[8],\n",
       "[5]])"
      ]
     },
     "execution_count": 103,
     "metadata": {},
     "output_type": "execute_result"
    }
   ],
   "source": [
    "a = матрица_желаемых_коэффициентов(L)\n",
    "a"
   ]
  },
  {
   "cell_type": "code",
   "execution_count": 104,
   "metadata": {},
   "outputs": [],
   "source": [
    "def вектор_d(A, B, L, C):\n",
    "    q = sympy.Matrix([sympy.symbols('q_1'), 1])\n",
    "    s = sympy.symbols('s')\n",
    "    tmp = (s*sympy.eye(3) - A).inv()*B*q\n",
    "    tmp = tmp.applyfunc(lambda x: sympy.simplify(x))\n",
    "    highest_denominator = sympy.fraction(tmp[0, 0])[1]\n",
    "    for i in range(3):\n",
    "        if not sympy.div(sympy.fraction(tmp[i, 0])[1], highest_denominator)[1]:\n",
    "            highest_denominator = sympy.fraction(tmp[i, 0])[1]\n",
    "    # print(highest_denominator)\n",
    "    return sympy.Matrix(sympy.Poly(highest_denominator).all_coeffs()[:0:-1])"
   ]
  },
  {
   "cell_type": "code",
   "execution_count": 105,
   "metadata": {},
   "outputs": [
    {
     "data": {
      "text/latex": [
       "$\\displaystyle \\left[\\begin{matrix}-9\\\\17\\\\-9\\end{matrix}\\right]$"
      ],
      "text/plain": [
       "Matrix([\n",
       "[-9],\n",
       "[17],\n",
       "[-9]])"
      ]
     },
     "execution_count": 105,
     "metadata": {},
     "output_type": "execute_result"
    }
   ],
   "source": [
    "d = вектор_d(A, B, L, C)\n",
    "d"
   ]
  },
  {
   "cell_type": "code",
   "execution_count": 106,
   "metadata": {},
   "outputs": [],
   "source": [
    "def матрица_g_q(A, B, L, C):\n",
    "    q = sympy.Matrix([sympy.symbols('q_1'), 1])\n",
    "    s = sympy.symbols('s')\n",
    "    tmp = (s*sympy.eye(3) - A).inv()*B*q\n",
    "    tmp = tmp.applyfunc(lambda x: sympy.simplify(x))\n",
    "    # multiply every element in tmp by denominator of tmp[0, 0]\n",
    "    tmp = tmp.applyfunc(lambda x: sympy.simplify(x*sympy.fraction(tmp[0, 0])[1]))\n",
    "    tmp = tmp.applyfunc(lambda x: sympy.simplify(x*sympy.fraction(tmp[1, 0])[1]))\n",
    "    tmp = tmp.applyfunc(lambda x: sympy.simplify(x*sympy.fraction(tmp[2, 0])[1]))\n",
    "    \n",
    "    return tmp    "
   ]
  },
  {
   "cell_type": "code",
   "execution_count": 107,
   "metadata": {},
   "outputs": [
    {
     "data": {
      "text/latex": [
       "$\\displaystyle \\left[\\begin{matrix}2 q_{1} s^{2} + 2 q_{1} s - 6 q_{1} + 2 s^{2} - 4 s + 2\\\\- 4 q_{1} s^{2} + 17 q_{1} s - 15 q_{1} - 2 s^{2} + 6 s - 4\\\\3 q_{1} s^{2} - 6 q_{1} s + 3 q_{1} + 2 s^{2} - 4 s + 2\\end{matrix}\\right]$"
      ],
      "text/plain": [
       "Matrix([\n",
       "[   2*q_1*s**2 + 2*q_1*s - 6*q_1 + 2*s**2 - 4*s + 2],\n",
       "[-4*q_1*s**2 + 17*q_1*s - 15*q_1 - 2*s**2 + 6*s - 4],\n",
       "[   3*q_1*s**2 - 6*q_1*s + 3*q_1 + 2*s**2 - 4*s + 2]])"
      ]
     },
     "execution_count": 107,
     "metadata": {},
     "output_type": "execute_result"
    }
   ],
   "source": [
    "gq = матрица_g_q(A, B, L, C)\n",
    "gq"
   ]
  },
  {
   "cell_type": "code",
   "execution_count": 108,
   "metadata": {},
   "outputs": [],
   "source": [
    "def матрица_L_q(A, B, L, C):\n",
    "    s = sympy.symbols('s')\n",
    "    tmp = матрица_g_q(A, B, L, C)\n",
    "    res = sympy.zeros(3, 3)\n",
    "    res[0] = sympy.Poly(tmp[0, 0], s).all_coeffs()[::-1]\n",
    "    res[1] = sympy.Poly(tmp[1, 0], s).all_coeffs()[::-1]\n",
    "    res[2] = sympy.Poly(tmp[2, 0], s).all_coeffs()[::-1]\n",
    "    return res.T"
   ]
  },
  {
   "cell_type": "code",
   "execution_count": 109,
   "metadata": {},
   "outputs": [
    {
     "data": {
      "text/latex": [
       "$\\displaystyle \\left[\\begin{matrix}2 - 6 q_{1} & 2 q_{1} - 4 & 2 q_{1} + 2\\\\- 15 q_{1} - 4 & 17 q_{1} + 6 & - 4 q_{1} - 2\\\\3 q_{1} + 2 & - 6 q_{1} - 4 & 3 q_{1} + 2\\end{matrix}\\right]$"
      ],
      "text/plain": [
       "Matrix([\n",
       "[  2 - 6*q_1,  2*q_1 - 4,  2*q_1 + 2],\n",
       "[-15*q_1 - 4, 17*q_1 + 6, -4*q_1 - 2],\n",
       "[  3*q_1 + 2, -6*q_1 - 4,  3*q_1 + 2]])"
      ]
     },
     "execution_count": 109,
     "metadata": {},
     "output_type": "execute_result"
    }
   ],
   "source": [
    "matrix_L = матрица_L_q(A, B, L, C)\n",
    "matrix_L"
   ]
  },
  {
   "cell_type": "code",
   "execution_count": 110,
   "metadata": {},
   "outputs": [
    {
     "data": {
      "text/plain": [
       "'matrix([2-6*q_1,2*q_1-4,2*q_1+2],[-15*q_1-4,17*q_1+6,-4*q_1-2],[3*q_1+2,-6*q_1-4,3*q_1+2])'"
      ]
     },
     "execution_count": 110,
     "metadata": {},
     "output_type": "execute_result"
    }
   ],
   "source": [
    "toCopyString(matrix_L)"
   ]
  },
  {
   "cell_type": "markdown",
   "metadata": {},
   "source": [
    "$ \\alpha \\vec{a} = \\beta $\n",
    "\n",
    "$ \\alpha = (I_H - E_H E_B^{-1}I_B)(L^T)^{-1} $"
   ]
  },
  {
   "cell_type": "code",
   "execution_count": 111,
   "metadata": {},
   "outputs": [],
   "source": [
    "def матрицы_I_E(A, B, L, C):\n",
    "    res_I  = sympy.zeros(2, 3)\n",
    "    res_I_ = sympy.zeros(1, 3)\n",
    "    res_E  = sympy.zeros(2, 2)\n",
    "    res_E_ = sympy.zeros(1, 2)\n",
    "\n",
    "    is_first = True\n",
    "    tmp = [0, 1, 2]\n",
    "    for i in range(3):\n",
    "        if C.T[i, 0] or C.T[i, 1]:\n",
    "            tmp.remove(i)\n",
    "            if is_first:\n",
    "                res_E[0, :] = C.T[i, :]\n",
    "                res_I[0, i] = 1\n",
    "                is_first = False\n",
    "            else:\n",
    "                res_I[1, i] = 1\n",
    "                res_E[1, :] = C.T[i, :]\n",
    "    res_I_[tmp[0]] = 1\n",
    "    res_E_ = C.T[tmp[0], :]\n",
    "    return res_I, res_I_, res_E, res_E_"
   ]
  },
  {
   "cell_type": "code",
   "execution_count": 112,
   "metadata": {},
   "outputs": [
    {
     "data": {
      "text/latex": [
       "$\\displaystyle \\left[\\begin{matrix}1 & 0 & 0\\\\0 & 1 & 0\\end{matrix}\\right]$"
      ],
      "text/plain": [
       "Matrix([\n",
       "[1, 0, 0],\n",
       "[0, 1, 0]])"
      ]
     },
     "execution_count": 112,
     "metadata": {},
     "output_type": "execute_result"
    }
   ],
   "source": [
    "Iв, Iн, Eв, Eн = матрицы_I_E(A, B, L, C)\n",
    "Iв"
   ]
  },
  {
   "cell_type": "code",
   "execution_count": 113,
   "metadata": {},
   "outputs": [
    {
     "data": {
      "text/latex": [
       "$\\displaystyle \\left[\\begin{matrix}0 & 0 & 1\\end{matrix}\\right]$"
      ],
      "text/plain": [
       "Matrix([[0, 0, 1]])"
      ]
     },
     "execution_count": 113,
     "metadata": {},
     "output_type": "execute_result"
    }
   ],
   "source": [
    "Iн"
   ]
  },
  {
   "cell_type": "code",
   "execution_count": 114,
   "metadata": {},
   "outputs": [
    {
     "data": {
      "text/latex": [
       "$\\displaystyle \\left[\\begin{matrix}1 & -2\\\\-3 & -1\\end{matrix}\\right]$"
      ],
      "text/plain": [
       "Matrix([\n",
       "[ 1, -2],\n",
       "[-3, -1]])"
      ]
     },
     "execution_count": 114,
     "metadata": {},
     "output_type": "execute_result"
    }
   ],
   "source": [
    "Eв"
   ]
  },
  {
   "cell_type": "code",
   "execution_count": 115,
   "metadata": {},
   "outputs": [
    {
     "data": {
      "text/latex": [
       "$\\displaystyle \\left[\\begin{matrix}0 & 0\\end{matrix}\\right]$"
      ],
      "text/plain": [
       "Matrix([[0, 0]])"
      ]
     },
     "execution_count": 115,
     "metadata": {},
     "output_type": "execute_result"
    }
   ],
   "source": [
    "Eн"
   ]
  },
  {
   "cell_type": "code",
   "execution_count": 116,
   "metadata": {},
   "outputs": [],
   "source": [
    "def матрица_alpha_beta(A, B, L, C):\n",
    "    matrix_L = матрица_L_q(A, B, L, C)\n",
    "    d = вектор_d(A, B, L, C)\n",
    "    Iв, Iн, Eв, Eн = матрицы_I_E(A, B, L, C)\n",
    "    alpha = (Iн - Eн*Eв.inv()*Iв)*(matrix_L.T).inv()\n",
    "    beta = alpha * d\n",
    "    return alpha, beta"
   ]
  },
  {
   "cell_type": "code",
   "execution_count": 117,
   "metadata": {},
   "outputs": [
    {
     "data": {
      "text/latex": [
       "$\\displaystyle \\left[\\begin{matrix}\\frac{7 q_{1} + 1}{3 q_{1}^{2} + 2 q_{1}} & \\frac{9 q_{1} + 1}{3 q_{1}^{2} + 2 q_{1}} & \\frac{12 q_{1} + 1}{3 q_{1}^{2} + 2 q_{1}}\\end{matrix}\\right]$"
      ],
      "text/plain": [
       "Matrix([[(7*q_1 + 1)/(3*q_1**2 + 2*q_1), (9*q_1 + 1)/(3*q_1**2 + 2*q_1), (12*q_1 + 1)/(3*q_1**2 + 2*q_1)]])"
      ]
     },
     "execution_count": 117,
     "metadata": {},
     "output_type": "execute_result"
    }
   ],
   "source": [
    "alpha, beta = матрица_alpha_beta(A, B, L, C)\n",
    "alpha"
   ]
  },
  {
   "cell_type": "code",
   "execution_count": 118,
   "metadata": {},
   "outputs": [
    {
     "data": {
      "text/latex": [
       "$\\displaystyle \\left[\\begin{matrix}- \\frac{9 \\left(7 q_{1} + 1\\right)}{3 q_{1}^{2} + 2 q_{1}} + \\frac{17 \\left(9 q_{1} + 1\\right)}{3 q_{1}^{2} + 2 q_{1}} - \\frac{9 \\left(12 q_{1} + 1\\right)}{3 q_{1}^{2} + 2 q_{1}}\\end{matrix}\\right]$"
      ],
      "text/plain": [
       "Matrix([[-9*(7*q_1 + 1)/(3*q_1**2 + 2*q_1) + 17*(9*q_1 + 1)/(3*q_1**2 + 2*q_1) - 9*(12*q_1 + 1)/(3*q_1**2 + 2*q_1)]])"
      ]
     },
     "execution_count": 118,
     "metadata": {},
     "output_type": "execute_result"
    }
   ],
   "source": [
    "beta"
   ]
  },
  {
   "cell_type": "code",
   "execution_count": 119,
   "metadata": {},
   "outputs": [],
   "source": [
    "def вектор_q(A, B, L, C):\n",
    "    q = sympy.Matrix([sympy.symbols('q_1'), 1])\n",
    "    alpha, beta = матрица_alpha_beta(A, B, L, C)\n",
    "    a = матрица_желаемых_коэффициентов(L)\n",
    "    eqv = alpha * a - beta\n",
    "    # find q_1 \n",
    "    q_1 = sympy.solve(eqv[0, 0], q[0])[0]\n",
    "    q[0] = q_1\n",
    "    return q.n()"
   ]
  },
  {
   "cell_type": "code",
   "execution_count": 120,
   "metadata": {},
   "outputs": [
    {
     "data": {
      "text/latex": [
       "$\\displaystyle \\left[\\begin{matrix}-0.101123595505618\\\\1.0\\end{matrix}\\right]$"
      ],
      "text/plain": [
       "Matrix([\n",
       "[-0.101123595505618],\n",
       "[               1.0]])"
      ]
     },
     "execution_count": 120,
     "metadata": {},
     "output_type": "execute_result"
    }
   ],
   "source": [
    "q = вектор_q(A, B, L, C)\n",
    "q"
   ]
  },
  {
   "cell_type": "code",
   "execution_count": 121,
   "metadata": {},
   "outputs": [
    {
     "data": {
      "text/plain": [
       "'matrix([-0.101123595505618],[1.00000000000000])'"
      ]
     },
     "execution_count": 121,
     "metadata": {},
     "output_type": "execute_result"
    }
   ],
   "source": [
    "toCopyString(q)"
   ]
  },
  {
   "cell_type": "code",
   "execution_count": 145,
   "metadata": {},
   "outputs": [],
   "source": [
    "def матрица_g(A, B, L, C):\n",
    "    q = вектор_q(A, B, L, C)\n",
    "    s = sympy.symbols('s')\n",
    "    tmp = (s*sympy.eye(3) - A).inv()*B\n",
    "    tmp = tmp.applyfunc(lambda x: sympy.simplify(x))\n",
    "    \n",
    "    den1 = (sympy.fraction(tmp[0, 0])[1])\n",
    "    den2 = (sympy.fraction(tmp[1, 0])[1])\n",
    "    den3 = (sympy.fraction(tmp[2, 0])[1])\n",
    "\n",
    "    # find the smallest common multiple of all denominators\n",
    "    # highest_denominator = den1\n",
    "    # for i in range(2):\n",
    "    #     highest_denominator = sympy.lcm(highest_denominator, sympy.fraction(tmp[i, 0])[1])\n",
    "\n",
    "    # print(highest_denominator)\n",
    "    # for i in range(3):\n",
    "    #     denominator = sympy.fraction(tmp[i, 0])[1]\n",
    "    #     if sympy.div(highest_denominator, denominator)[0] != 1:\n",
    "    #         new_denominator = sympy.lcm(highest_denominator, denominator)\n",
    "    #         new_numenator = sympy.div(new_denominator, denominator)[0] * sympy.fraction(tmp[i, 0])[0]\n",
    "    #         tmp[i, 0] = sympy.simplify(new_numenator / new_denominator)\n",
    "\n",
    "    tmp = tmp.applyfunc(lambda x: sympy.simplify(x*sympy.fraction(tmp[0, 0])[1]))\n",
    "    tmp = tmp.applyfunc(lambda x: sympy.simplify(x*sympy.fraction(tmp[1, 0])[1]))\n",
    "    tmp = tmp.applyfunc(lambda x: sympy.simplify(x*sympy.fraction(tmp[2, 0])[1]))\n",
    "\n",
    "    for i in range(3):\n",
    "        denominator = sympy.fraction(tmp[i, 0])[1]\n",
    "        # print(denominator)\n",
    "        if denominator != 1:\n",
    "            numerator = sympy.fraction(tmp[i, 0])[0]\n",
    "            tmp[i, 0] = sympy.div(numerator, denominator)[0]\n",
    "            \n",
    "    return tmp*q"
   ]
  },
  {
   "cell_type": "code",
   "execution_count": 147,
   "metadata": {},
   "outputs": [
    {
     "data": {
      "text/latex": [
       "$\\displaystyle \\left[\\begin{matrix}1.79775280898876 s^{2} - 4.20224719101124 s + 2.60674157303371\\\\- 1.59550561797753 s^{2} + 4.28089887640449 s - 2.48314606741573\\\\1.69662921348315 s^{2} - 3.39325842696629 s + 1.69662921348315\\end{matrix}\\right]$"
      ],
      "text/plain": [
       "Matrix([\n",
       "[ 1.79775280898876*s**2 - 4.20224719101124*s + 2.60674157303371],\n",
       "[-1.59550561797753*s**2 + 4.28089887640449*s - 2.48314606741573],\n",
       "[ 1.69662921348315*s**2 - 3.39325842696629*s + 1.69662921348315]])"
      ]
     },
     "execution_count": 147,
     "metadata": {},
     "output_type": "execute_result"
    }
   ],
   "source": [
    "g = матрица_g(A, B, L, C)\n",
    "g"
   ]
  },
  {
   "cell_type": "code",
   "execution_count": 148,
   "metadata": {},
   "outputs": [],
   "source": [
    "def матрица_L(A, B, L, C):\n",
    "    s = sympy.symbols('s')\n",
    "    tmp = матрица_g(A, B, L, C)\n",
    "    res = sympy.zeros(3, 3)\n",
    "    res[0] = sympy.Poly(tmp[0, 0], s).all_coeffs()[::-1]\n",
    "    res[1] = sympy.Poly(tmp[1, 0], s).all_coeffs()[::-1]\n",
    "    res[2] = sympy.Poly(tmp[2, 0], s).all_coeffs()[::-1]\n",
    "    return res.T"
   ]
  },
  {
   "cell_type": "code",
   "execution_count": 149,
   "metadata": {},
   "outputs": [
    {
     "data": {
      "text/latex": [
       "$\\displaystyle \\left[\\begin{matrix}2.60674157303371 & -4.20224719101124 & 1.79775280898876\\\\-2.48314606741573 & 4.28089887640449 & -1.59550561797753\\\\1.69662921348315 & -3.39325842696629 & 1.69662921348315\\end{matrix}\\right]$"
      ],
      "text/plain": [
       "Matrix([\n",
       "[ 2.60674157303371, -4.20224719101124,  1.79775280898876],\n",
       "[-2.48314606741573,  4.28089887640449, -1.59550561797753],\n",
       "[ 1.69662921348315, -3.39325842696629,  1.69662921348315]])"
      ]
     },
     "execution_count": 149,
     "metadata": {},
     "output_type": "execute_result"
    }
   ],
   "source": [
    "L_ = матрица_L(A, B, L, C)\n",
    "L_"
   ]
  },
  {
   "cell_type": "code",
   "execution_count": 88,
   "metadata": {},
   "outputs": [],
   "source": [
    "def вектор_p(A, B, L, C):\n",
    "    matrix_L = матрица_L(A, B, L, C)\n",
    "    a = матрица_желаемых_коэффициентов(L)\n",
    "    d = вектор_d(A, B, L, C)\n",
    "    Iв, Iн, Eв, Eн = матрицы_I_E(A, B, L, C)\n",
    "    p = (Eв).inv()*Iв*(matrix_L.T).inv()*(a-d)\n",
    "    return p.T"
   ]
  },
  {
   "cell_type": "code",
   "execution_count": 150,
   "metadata": {},
   "outputs": [
    {
     "data": {
      "text/latex": [
       "$\\displaystyle \\left[\\begin{matrix}-5.72563859981078 & -25.8495742667928\\end{matrix}\\right]$"
      ],
      "text/plain": [
       "Matrix([[-5.72563859981078, -25.8495742667928]])"
      ]
     },
     "execution_count": 150,
     "metadata": {},
     "output_type": "execute_result"
    }
   ],
   "source": [
    "p = вектор_p(A, B, L, C)\n",
    "p"
   ]
  },
  {
   "cell_type": "code",
   "execution_count": 151,
   "metadata": {},
   "outputs": [
    {
     "data": {
      "text/plain": [
       "'matrix([-5.72563859981078,-25.8495742667928])'"
      ]
     },
     "execution_count": 151,
     "metadata": {},
     "output_type": "execute_result"
    }
   ],
   "source": [
    "toCopyString(p)"
   ]
  },
  {
   "cell_type": "code",
   "execution_count": 152,
   "metadata": {},
   "outputs": [],
   "source": [
    "def матрица_P(A, B, L, C):\n",
    "    p = вектор_p(A, B, L, C)\n",
    "    q = вектор_q(A, B, L, C)\n",
    "    return q * p"
   ]
  },
  {
   "cell_type": "code",
   "execution_count": 153,
   "metadata": {},
   "outputs": [
    {
     "data": {
      "text/latex": [
       "$\\displaystyle \\left[\\begin{matrix}0.578997161778618 & 2.61400189214759\\\\-5.72563859981078 & -25.8495742667928\\end{matrix}\\right]$"
      ],
      "text/plain": [
       "Matrix([\n",
       "[0.578997161778618,  2.61400189214759],\n",
       "[-5.72563859981078, -25.8495742667928]])"
      ]
     },
     "execution_count": 153,
     "metadata": {},
     "output_type": "execute_result"
    }
   ],
   "source": [
    "P = матрица_P(A, B, L, C)\n",
    "P"
   ]
  },
  {
   "cell_type": "code",
   "execution_count": 154,
   "metadata": {},
   "outputs": [
    {
     "data": {
      "text/plain": [
       "'matrix([0.578997161778618,2.61400189214759],[-5.72563859981078,-25.8495742667928])'"
      ]
     },
     "execution_count": 154,
     "metadata": {},
     "output_type": "execute_result"
    }
   ],
   "source": [
    "toCopyString(P)"
   ]
  },
  {
   "cell_type": "code",
   "execution_count": 155,
   "metadata": {},
   "outputs": [
    {
     "name": "stdout",
     "output_type": "stream",
     "text": [
      "1\n",
      "2\n",
      "3\n",
      "4\n",
      "5\n",
      "6\n",
      "7\n",
      "8\n",
      "9\n",
      "10\n",
      "11\n",
      "12\n",
      "13\n",
      "14\n",
      "15\n",
      "16\n",
      "17\n",
      "18\n",
      "19\n",
      "20\n",
      "21\n",
      "22\n",
      "23\n",
      "24\n",
      "25\n",
      "26\n",
      "27\n",
      "28\n",
      "29\n",
      "30\n"
     ]
    }
   ],
   "source": [
    "for var_number in range(1, 31):\n",
    "    A, B, L, C = получить_матрицы_варианта(var_number)\n",
    "    A = sympy.Matrix(A)\n",
    "    B = sympy.Matrix(B)\n",
    "    L = sympy.Matrix(L)\n",
    "    C = sympy.Matrix(C)\n",
    "    try:\n",
    "        S            = матрица_управляемости(A, B, L)\n",
    "        определитель = определитель_матрицы_управляемости(S)\n",
    "        q            = вектор_q(A, B, L, C)\n",
    "        p            = вектор_p(A, B, L, C)\n",
    "        P            = матрица_P(A, B, L, C)\n",
    "\n",
    "        print(var_number)\n",
    "        with open(f'./results/{var_number}.txt', 'w') as file:\n",
    "            file.write(toCopyString(S) + '\\n')\n",
    "            file.write(str(определитель) + '\\n')\n",
    "            file.write(toCopyString(q) + '\\n')\n",
    "            file.write(toCopyString(p) + '\\n')\n",
    "            file.write(toCopyString(P) + '\\n')\n",
    "    except:\n",
    "        pass\n",
    "        "
   ]
  }
 ],
 "metadata": {
  "interpreter": {
   "hash": "568d99031516cb91b124139a50c43e0e628ee43803acee1edec6cbd47ca74668"
  },
  "kernelspec": {
   "display_name": "Python 3.10.2 64-bit",
   "language": "python",
   "name": "python3"
  },
  "language_info": {
   "codemirror_mode": {
    "name": "ipython",
    "version": 3
   },
   "file_extension": ".py",
   "mimetype": "text/x-python",
   "name": "python",
   "nbconvert_exporter": "python",
   "pygments_lexer": "ipython3",
   "version": "3.10.2"
  },
  "orig_nbformat": 4
 },
 "nbformat": 4,
 "nbformat_minor": 2
}
