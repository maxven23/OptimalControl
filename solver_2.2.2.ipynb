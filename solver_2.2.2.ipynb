{
 "cells": [
  {
   "cell_type": "code",
   "execution_count": 137,
   "metadata": {},
   "outputs": [],
   "source": [
    "import numpy as np\n",
    "import sympy\n",
    "import csv\n",
    "from json import loads\n",
    "\n",
    "lab_number = '2.2.2'\n",
    "var_number = 27\n",
    "\n",
    "\n",
    "def toCopyString(matrix) -> str:\n",
    "    return 'matrix(' + str(matrix).replace('Matrix([', '[').replace('])', ']')[1:-1].replace(' ', '') + ')'\n",
    "\n",
    "def fromCopyString(string: str):\n",
    "    return loads(string.replace('matrix(', '[').replace(')', ']'))\n",
    "\n",
    "def получить_матрицы_варианта(number):\n",
    "    filename = f'./{lab_number}_variants.txt'\n",
    "    with open(filename, 'r') as file:\n",
    "        variants = csv.reader(file, delimiter=',')\n",
    "        variant = list(variants)[number - 1][1].split(';')\n",
    "        A = fromCopyString(variant[0])\n",
    "        B = fromCopyString(variant[1])\n",
    "        L = fromCopyString(variant[2])\n",
    "        C = fromCopyString(variant[3])\n",
    "    return A, B, L, C"
   ]
  },
  {
   "cell_type": "code",
   "execution_count": 138,
   "metadata": {},
   "outputs": [
    {
     "data": {
      "text/latex": [
       "$\\displaystyle \\left[\\begin{matrix}1 & 0 & 4\\\\-1 & 0 & 2\\end{matrix}\\right]$"
      ],
      "text/plain": [
       "Matrix([\n",
       "[ 1, 0, 4],\n",
       "[-1, 0, 2]])"
      ]
     },
     "execution_count": 138,
     "metadata": {},
     "output_type": "execute_result"
    }
   ],
   "source": [
    "A, B, L, C = получить_матрицы_варианта(var_number)\n",
    "A = sympy.Matrix(A)\n",
    "B = sympy.Matrix(B)\n",
    "L = sympy.Matrix(L)\n",
    "C = sympy.Matrix(C)\n",
    "C"
   ]
  },
  {
   "cell_type": "code",
   "execution_count": 139,
   "metadata": {},
   "outputs": [],
   "source": [
    "def матрица_управляемости(A, B, L):\n",
    "    матрица = sympy.zeros(3, 6)\n",
    "    матрица[:, 0:2] = B \n",
    "    матрица[:, 2:4] = A*B\n",
    "    матрица[:, 4:] = A**2*B\n",
    "    return матрица"
   ]
  },
  {
   "cell_type": "code",
   "execution_count": 140,
   "metadata": {},
   "outputs": [
    {
     "data": {
      "text/latex": [
       "$\\displaystyle \\left[\\begin{matrix}-1 & 2 & 13 & -13 & -49 & 70\\\\1 & -1 & 2 & -8 & -36 & -6\\\\4 & -3 & -2 & 5 & 16 & 11\\end{matrix}\\right]$"
      ],
      "text/plain": [
       "Matrix([\n",
       "[-1,  2, 13, -13, -49, 70],\n",
       "[ 1, -1,  2,  -8, -36, -6],\n",
       "[ 4, -3, -2,   5,  16, 11]])"
      ]
     },
     "execution_count": 140,
     "metadata": {},
     "output_type": "execute_result"
    }
   ],
   "source": [
    "S = матрица_управляемости(A, B, L)\n",
    "S"
   ]
  },
  {
   "cell_type": "code",
   "execution_count": 141,
   "metadata": {},
   "outputs": [
    {
     "data": {
      "text/plain": [
       "'matrix([-1,2,13,-13,-49,70],[1,-1,2,-8,-36,-6],[4,-3,-2,5,16,11])'"
      ]
     },
     "execution_count": 141,
     "metadata": {},
     "output_type": "execute_result"
    }
   ],
   "source": [
    "toCopyString(S)"
   ]
  },
  {
   "cell_type": "code",
   "execution_count": 142,
   "metadata": {},
   "outputs": [],
   "source": [
    "def определитель_матрицы_управляемости(S):\n",
    "    определитель = S[:, :3].det()\n",
    "    # print('Да!' if определитель != 0 else 'Нет :(')\n",
    "    return определитель"
   ]
  },
  {
   "cell_type": "code",
   "execution_count": 143,
   "metadata": {},
   "outputs": [
    {
     "name": "stdout",
     "output_type": "stream",
     "text": [
      "25\n"
     ]
    }
   ],
   "source": [
    "print(определитель_матрицы_управляемости(S))"
   ]
  },
  {
   "cell_type": "code",
   "execution_count": 144,
   "metadata": {},
   "outputs": [],
   "source": [
    "def матрица_желаемых_коэффициентов(L):\n",
    "    res = sympy.zeros(3, 1)\n",
    "    res[2, 0] = -sum(L)\n",
    "    res[1, 0] = L[0]*L[1] + L[1]*L[2] + L[2]*L[0]\n",
    "    res[0, 0] = -L[0]*L[1]*L[2]\n",
    "    return res"
   ]
  },
  {
   "cell_type": "code",
   "execution_count": 145,
   "metadata": {},
   "outputs": [
    {
     "data": {
      "text/latex": [
       "$\\displaystyle \\left[\\begin{matrix}18\\\\21\\\\8\\end{matrix}\\right]$"
      ],
      "text/plain": [
       "Matrix([\n",
       "[18],\n",
       "[21],\n",
       "[ 8]])"
      ]
     },
     "execution_count": 145,
     "metadata": {},
     "output_type": "execute_result"
    }
   ],
   "source": [
    "a = матрица_желаемых_коэффициентов(L)\n",
    "a"
   ]
  },
  {
   "cell_type": "code",
   "execution_count": 146,
   "metadata": {},
   "outputs": [],
   "source": [
    "def вектор_d(A, B, L, C):\n",
    "    q = sympy.Matrix([sympy.symbols('q_1'), 1])\n",
    "    s = sympy.symbols('s')\n",
    "    tmp = (s*sympy.eye(3) - A).inv()*B*q\n",
    "    tmp = tmp.applyfunc(lambda x: sympy.simplify(x))\n",
    "    highest_denominator = sympy.fraction(tmp[0, 0])[1]\n",
    "    for i in range(3):\n",
    "        if not sympy.div(sympy.fraction(tmp[i, 0])[1], highest_denominator)[1]:\n",
    "            highest_denominator = sympy.fraction(tmp[i, 0])[1]\n",
    "    # print(highest_denominator)\n",
    "    return sympy.Matrix(sympy.Poly(highest_denominator).all_coeffs()[:0:-1])"
   ]
  },
  {
   "cell_type": "code",
   "execution_count": 147,
   "metadata": {},
   "outputs": [
    {
     "data": {
      "text/latex": [
       "$\\displaystyle \\left[\\begin{matrix}18\\\\37\\\\4\\end{matrix}\\right]$"
      ],
      "text/plain": [
       "Matrix([\n",
       "[18],\n",
       "[37],\n",
       "[ 4]])"
      ]
     },
     "execution_count": 147,
     "metadata": {},
     "output_type": "execute_result"
    }
   ],
   "source": [
    "d = вектор_d(A, B, L, C)\n",
    "d"
   ]
  },
  {
   "cell_type": "code",
   "execution_count": 148,
   "metadata": {},
   "outputs": [],
   "source": [
    "def матрица_g_q(A, B, L, C):\n",
    "    q = sympy.Matrix([sympy.symbols('q_1'), 1])\n",
    "    s = sympy.symbols('s')\n",
    "    tmp = (s*sympy.eye(3) - A).inv()*B*q\n",
    "    tmp = tmp.applyfunc(lambda x: sympy.simplify(x))\n",
    "    # multiply every element in tmp by denominator of tmp[0, 0]\n",
    "    tmp = tmp.applyfunc(lambda x: sympy.simplify(x*sympy.fraction(tmp[0, 0])[1]))\n",
    "    tmp = tmp.applyfunc(lambda x: sympy.simplify(x*sympy.fraction(tmp[1, 0])[1]))\n",
    "    tmp = tmp.applyfunc(lambda x: sympy.simplify(x*sympy.fraction(tmp[2, 0])[1]))\n",
    "    \n",
    "    return tmp    "
   ]
  },
  {
   "cell_type": "code",
   "execution_count": 149,
   "metadata": {},
   "outputs": [
    {
     "data": {
      "text/latex": [
       "$\\displaystyle \\left[\\begin{matrix}q_{1} \\left(s^{2} - 17 s + 64\\right) - 2 s^{2} + 21 s - 48\\\\q_{1} \\left(- s^{2} + 2 s + 81\\right) + s^{2} + 4 s - 63\\\\2 q_{1} \\left(- 2 s^{2} + 9 s + 62\\right) + 3 s^{2} - 17 s - 102\\end{matrix}\\right]$"
      ],
      "text/plain": [
       "Matrix([\n",
       "[     q_1*(s**2 - 17*s + 64) - 2*s**2 + 21*s - 48],\n",
       "[        q_1*(-s**2 + 2*s + 81) + s**2 + 4*s - 63],\n",
       "[2*q_1*(-2*s**2 + 9*s + 62) + 3*s**2 - 17*s - 102]])"
      ]
     },
     "execution_count": 149,
     "metadata": {},
     "output_type": "execute_result"
    }
   ],
   "source": [
    "gq = матрица_g_q(A, B, L, C)\n",
    "gq"
   ]
  },
  {
   "cell_type": "code",
   "execution_count": 150,
   "metadata": {},
   "outputs": [],
   "source": [
    "def матрица_L_q(A, B, L, C):\n",
    "    s = sympy.symbols('s')\n",
    "    tmp = матрица_g_q(A, B, L, C)\n",
    "    res = sympy.zeros(3, 3)\n",
    "    res[0] = sympy.Poly(tmp[0, 0], s).all_coeffs()[::-1]\n",
    "    res[1] = sympy.Poly(tmp[1, 0], s).all_coeffs()[::-1]\n",
    "    res[2] = sympy.Poly(tmp[2, 0], s).all_coeffs()[::-1]\n",
    "    return res.T"
   ]
  },
  {
   "cell_type": "code",
   "execution_count": 151,
   "metadata": {},
   "outputs": [
    {
     "data": {
      "text/latex": [
       "$\\displaystyle \\left[\\begin{matrix}64 q_{1} - 48 & 21 - 17 q_{1} & q_{1} - 2\\\\81 q_{1} - 63 & 2 q_{1} + 4 & 1 - q_{1}\\\\124 q_{1} - 102 & 18 q_{1} - 17 & 3 - 4 q_{1}\\end{matrix}\\right]$"
      ],
      "text/plain": [
       "Matrix([\n",
       "[  64*q_1 - 48, 21 - 17*q_1,   q_1 - 2],\n",
       "[  81*q_1 - 63,   2*q_1 + 4,   1 - q_1],\n",
       "[124*q_1 - 102, 18*q_1 - 17, 3 - 4*q_1]])"
      ]
     },
     "execution_count": 151,
     "metadata": {},
     "output_type": "execute_result"
    }
   ],
   "source": [
    "matrix_L = матрица_L_q(A, B, L, C)\n",
    "matrix_L"
   ]
  },
  {
   "cell_type": "code",
   "execution_count": 152,
   "metadata": {},
   "outputs": [
    {
     "data": {
      "text/plain": [
       "'matrix([64*q_1-48,21-17*q_1,q_1-2],[81*q_1-63,2*q_1+4,1-q_1],[124*q_1-102,18*q_1-17,3-4*q_1])'"
      ]
     },
     "execution_count": 152,
     "metadata": {},
     "output_type": "execute_result"
    }
   ],
   "source": [
    "toCopyString(matrix_L)"
   ]
  },
  {
   "cell_type": "markdown",
   "metadata": {},
   "source": [
    "$ \\alpha \\vec{a} = \\beta $\n",
    "\n",
    "$ \\alpha = (I_H - E_H E_B^{-1}I_B)(L^T)^{-1} $"
   ]
  },
  {
   "cell_type": "code",
   "execution_count": 153,
   "metadata": {},
   "outputs": [],
   "source": [
    "def матрицы_I_E(A, B, L, C):\n",
    "    res_I  = sympy.zeros(2, 3)\n",
    "    res_I_ = sympy.zeros(1, 3)\n",
    "    res_E  = sympy.zeros(2, 2)\n",
    "    res_E_ = sympy.zeros(1, 2)\n",
    "\n",
    "    is_first = True\n",
    "    tmp = [0, 1, 2]\n",
    "    for i in range(3):\n",
    "        if C.T[i, 0] or C.T[i, 1]:\n",
    "            tmp.remove(i)\n",
    "            if is_first:\n",
    "                res_E[0, :] = C.T[i, :]\n",
    "                res_I[0, i] = 1\n",
    "                is_first = False\n",
    "            else:\n",
    "                res_I[1, i] = 1\n",
    "                res_E[1, :] = C.T[i, :]\n",
    "    res_I_[tmp[0]] = 1\n",
    "    res_E_ = C.T[tmp[0], :]\n",
    "    return res_I, res_I_, res_E, res_E_"
   ]
  },
  {
   "cell_type": "code",
   "execution_count": 154,
   "metadata": {},
   "outputs": [
    {
     "data": {
      "text/latex": [
       "$\\displaystyle \\left[\\begin{matrix}1 & 0 & 0\\\\0 & 0 & 1\\end{matrix}\\right]$"
      ],
      "text/plain": [
       "Matrix([\n",
       "[1, 0, 0],\n",
       "[0, 0, 1]])"
      ]
     },
     "execution_count": 154,
     "metadata": {},
     "output_type": "execute_result"
    }
   ],
   "source": [
    "Iв, Iн, Eв, Eн = матрицы_I_E(A, B, L, C)\n",
    "Iв"
   ]
  },
  {
   "cell_type": "code",
   "execution_count": 155,
   "metadata": {},
   "outputs": [
    {
     "data": {
      "text/latex": [
       "$\\displaystyle \\left[\\begin{matrix}0 & 1 & 0\\end{matrix}\\right]$"
      ],
      "text/plain": [
       "Matrix([[0, 1, 0]])"
      ]
     },
     "execution_count": 155,
     "metadata": {},
     "output_type": "execute_result"
    }
   ],
   "source": [
    "Iн"
   ]
  },
  {
   "cell_type": "code",
   "execution_count": 156,
   "metadata": {},
   "outputs": [
    {
     "data": {
      "text/latex": [
       "$\\displaystyle \\left[\\begin{matrix}1 & -1\\\\4 & 2\\end{matrix}\\right]$"
      ],
      "text/plain": [
       "Matrix([\n",
       "[1, -1],\n",
       "[4,  2]])"
      ]
     },
     "execution_count": 156,
     "metadata": {},
     "output_type": "execute_result"
    }
   ],
   "source": [
    "Eв"
   ]
  },
  {
   "cell_type": "code",
   "execution_count": 157,
   "metadata": {},
   "outputs": [
    {
     "data": {
      "text/latex": [
       "$\\displaystyle \\left[\\begin{matrix}0 & 0\\end{matrix}\\right]$"
      ],
      "text/plain": [
       "Matrix([[0, 0]])"
      ]
     },
     "execution_count": 157,
     "metadata": {},
     "output_type": "execute_result"
    }
   ],
   "source": [
    "Eн"
   ]
  },
  {
   "cell_type": "code",
   "execution_count": 158,
   "metadata": {},
   "outputs": [],
   "source": [
    "def матрица_alpha_beta(A, B, L, C):\n",
    "    matrix_L = матрица_L_q(A, B, L, C)\n",
    "    d = вектор_d(A, B, L, C)\n",
    "    Iв, Iн, Eв, Eн = матрицы_I_E(A, B, L, C)\n",
    "    alpha = (Iн - Eн*Eв.inv()*Iв)*(matrix_L.T).inv()\n",
    "    beta = alpha * d\n",
    "    return alpha, beta"
   ]
  },
  {
   "cell_type": "code",
   "execution_count": 159,
   "metadata": {},
   "outputs": [
    {
     "data": {
      "text/latex": [
       "$\\displaystyle \\left[\\begin{matrix}\\frac{50 q_{1}^{2} - 82 q_{1} + 29}{1550 q_{1}^{3} - 190 q_{1}^{2} - 3973 q_{1} + 2523} & \\frac{380 q_{1}^{2} - 734 q_{1} + 348}{1550 q_{1}^{3} - 190 q_{1}^{2} - 3973 q_{1} + 2523} & \\frac{3260 q_{1}^{2} - 6290 q_{1} + 2958}{1550 q_{1}^{3} - 190 q_{1}^{2} - 3973 q_{1} + 2523}\\end{matrix}\\right]$"
      ],
      "text/plain": [
       "Matrix([[(50*q_1**2 - 82*q_1 + 29)/(1550*q_1**3 - 190*q_1**2 - 3973*q_1 + 2523), (380*q_1**2 - 734*q_1 + 348)/(1550*q_1**3 - 190*q_1**2 - 3973*q_1 + 2523), (3260*q_1**2 - 6290*q_1 + 2958)/(1550*q_1**3 - 190*q_1**2 - 3973*q_1 + 2523)]])"
      ]
     },
     "execution_count": 159,
     "metadata": {},
     "output_type": "execute_result"
    }
   ],
   "source": [
    "alpha, beta = матрица_alpha_beta(A, B, L, C)\n",
    "alpha"
   ]
  },
  {
   "cell_type": "code",
   "execution_count": 160,
   "metadata": {},
   "outputs": [
    {
     "data": {
      "text/latex": [
       "$\\displaystyle \\left[\\begin{matrix}\\frac{18 \\left(50 q_{1}^{2} - 82 q_{1} + 29\\right)}{1550 q_{1}^{3} - 190 q_{1}^{2} - 3973 q_{1} + 2523} + \\frac{37 \\left(380 q_{1}^{2} - 734 q_{1} + 348\\right)}{1550 q_{1}^{3} - 190 q_{1}^{2} - 3973 q_{1} + 2523} + \\frac{4 \\left(3260 q_{1}^{2} - 6290 q_{1} + 2958\\right)}{1550 q_{1}^{3} - 190 q_{1}^{2} - 3973 q_{1} + 2523}\\end{matrix}\\right]$"
      ],
      "text/plain": [
       "Matrix([[18*(50*q_1**2 - 82*q_1 + 29)/(1550*q_1**3 - 190*q_1**2 - 3973*q_1 + 2523) + 37*(380*q_1**2 - 734*q_1 + 348)/(1550*q_1**3 - 190*q_1**2 - 3973*q_1 + 2523) + 4*(3260*q_1**2 - 6290*q_1 + 2958)/(1550*q_1**3 - 190*q_1**2 - 3973*q_1 + 2523)]])"
      ]
     },
     "execution_count": 160,
     "metadata": {},
     "output_type": "execute_result"
    }
   ],
   "source": [
    "beta"
   ]
  },
  {
   "cell_type": "code",
   "execution_count": 163,
   "metadata": {},
   "outputs": [],
   "source": [
    "def вектор_q(A, B, L, C, var_number=0):\n",
    "    q = sympy.Matrix([sympy.symbols('q_1'), 1])\n",
    "    alpha, beta = матрица_alpha_beta(A, B, L, C)\n",
    "    a = матрица_желаемых_коэффициентов(L)\n",
    "    eqv = alpha * a - beta\n",
    "    # find q_1\n",
    "    tmp = sympy.solve(eqv[0, 0], q[0])\n",
    "    print(tmp)\n",
    "    # print(tmp[0], tmp[1])\n",
    "    # print(tmp)\n",
    "    q_1 = tmp[0] if len(tmp) == 1 or abs(tmp[0]) > abs(tmp[1]) or var_number in [1, 5, 7, 8, 9, 12, 14, 15, 16, 17, 19, 22, 26, 27] else tmp[1]\n",
    "    \n",
    "    q[0] = q_1\n",
    "    return q.n()"
   ]
  },
  {
   "cell_type": "code",
   "execution_count": 164,
   "metadata": {},
   "outputs": [
    {
     "name": "stdout",
     "output_type": "stream",
     "text": [
      "[559/580 - sqrt(9721)/580, sqrt(9721)/580 + 559/580]\n"
     ]
    },
    {
     "data": {
      "text/latex": [
       "$\\displaystyle \\left[\\begin{matrix}0.793801497024726\\\\1.0\\end{matrix}\\right]$"
      ],
      "text/plain": [
       "Matrix([\n",
       "[0.793801497024726],\n",
       "[              1.0]])"
      ]
     },
     "execution_count": 164,
     "metadata": {},
     "output_type": "execute_result"
    }
   ],
   "source": [
    "q = вектор_q(A, B, L, C, var_number)\n",
    "q"
   ]
  },
  {
   "cell_type": "code",
   "execution_count": 125,
   "metadata": {},
   "outputs": [
    {
     "data": {
      "text/plain": [
       "'matrix([1.31010558331343],[1.00000000000000])'"
      ]
     },
     "execution_count": 125,
     "metadata": {},
     "output_type": "execute_result"
    }
   ],
   "source": [
    "toCopyString(q)"
   ]
  },
  {
   "cell_type": "code",
   "execution_count": 126,
   "metadata": {},
   "outputs": [],
   "source": [
    "def матрица_g(A, B, L, C, var_number):\n",
    "    q = вектор_q(A, B, L, C, var_number)\n",
    "    s = sympy.symbols('s')\n",
    "    tmp = (s*sympy.eye(3) - A).inv()*B\n",
    "    tmp = tmp.applyfunc(lambda x: sympy.simplify(x))\n",
    "    \n",
    "    den1 = (sympy.fraction(tmp[0, 0])[1])\n",
    "    den2 = (sympy.fraction(tmp[1, 0])[1])\n",
    "    den3 = (sympy.fraction(tmp[2, 0])[1])\n",
    "\n",
    "    # find the smallest common multiple of all denominators\n",
    "    # highest_denominator = den1\n",
    "    # for i in range(2):\n",
    "    #     highest_denominator = sympy.lcm(highest_denominator, sympy.fraction(tmp[i, 0])[1])\n",
    "\n",
    "    # print(highest_denominator)\n",
    "    # for i in range(3):\n",
    "    #     denominator = sympy.fraction(tmp[i, 0])[1]\n",
    "    #     if sympy.div(highest_denominator, denominator)[0] != 1:\n",
    "    #         new_denominator = sympy.lcm(highest_denominator, denominator)\n",
    "    #         new_numenator = sympy.div(new_denominator, denominator)[0] * sympy.fraction(tmp[i, 0])[0]\n",
    "    #         tmp[i, 0] = sympy.simplify(new_numenator / new_denominator)\n",
    "\n",
    "    tmp = tmp.applyfunc(lambda x: sympy.simplify(x*sympy.fraction(tmp[0, 0])[1]))\n",
    "    tmp = tmp.applyfunc(lambda x: sympy.simplify(x*sympy.fraction(tmp[1, 0])[1]))\n",
    "    tmp = tmp.applyfunc(lambda x: sympy.simplify(x*sympy.fraction(tmp[2, 0])[1]))\n",
    "\n",
    "    for i in range(3):\n",
    "        denominator = sympy.fraction(tmp[i, 0])[1]\n",
    "        # print(denominator)\n",
    "        if denominator != 1:\n",
    "            numerator = sympy.fraction(tmp[i, 0])[0]\n",
    "            tmp[i, 0] = sympy.div(numerator, denominator)[0]\n",
    "            \n",
    "    return tmp*q"
   ]
  },
  {
   "cell_type": "code",
   "execution_count": 127,
   "metadata": {},
   "outputs": [
    {
     "data": {
      "text/latex": [
       "$\\displaystyle \\left[\\begin{matrix}- 2.68989441668657 s^{2} + 12.8989441668657 s + 6.32760199856681\\\\- 0.310105583313428 s^{2} + 7.27873300023887 s + 3.72126699976113\\\\0.379788833373144 s^{2} - 5.27873300023887 s - 4.15324266794062\\end{matrix}\\right]$"
      ],
      "text/plain": [
       "Matrix([\n",
       "[ -2.68989441668657*s**2 + 12.8989441668657*s + 6.32760199856681],\n",
       "[-0.310105583313428*s**2 + 7.27873300023887*s + 3.72126699976113],\n",
       "[ 0.379788833373144*s**2 - 5.27873300023887*s - 4.15324266794062]])"
      ]
     },
     "execution_count": 127,
     "metadata": {},
     "output_type": "execute_result"
    }
   ],
   "source": [
    "g = матрица_g(A, B, L, C, var_number)\n",
    "g"
   ]
  },
  {
   "cell_type": "code",
   "execution_count": 128,
   "metadata": {},
   "outputs": [],
   "source": [
    "def матрица_L(A, B, L, C, var_number):\n",
    "    s = sympy.symbols('s')\n",
    "    tmp = матрица_g(A, B, L, C, var_number)\n",
    "    res = sympy.zeros(3, 3)\n",
    "    res[0] = sympy.Poly(tmp[0, 0], s).all_coeffs()[::-1]\n",
    "    res[1] = sympy.Poly(tmp[1, 0], s).all_coeffs()[::-1]\n",
    "    res[2] = sympy.Poly(tmp[2, 0], s).all_coeffs()[::-1]\n",
    "    return res.T"
   ]
  },
  {
   "cell_type": "code",
   "execution_count": 129,
   "metadata": {},
   "outputs": [
    {
     "data": {
      "text/latex": [
       "$\\displaystyle \\left[\\begin{matrix}6.32760199856681 & 12.8989441668657 & -2.68989441668657\\\\3.72126699976113 & 7.27873300023887 & -0.310105583313428\\\\-4.15324266794062 & -5.27873300023887 & 0.379788833373144\\end{matrix}\\right]$"
      ],
      "text/plain": [
       "Matrix([\n",
       "[ 6.32760199856681,  12.8989441668657,  -2.68989441668657],\n",
       "[ 3.72126699976113,  7.27873300023887, -0.310105583313428],\n",
       "[-4.15324266794062, -5.27873300023887,  0.379788833373144]])"
      ]
     },
     "execution_count": 129,
     "metadata": {},
     "output_type": "execute_result"
    }
   ],
   "source": [
    "L_ = матрица_L(A, B, L, C, var_number)\n",
    "L_"
   ]
  },
  {
   "cell_type": "code",
   "execution_count": 130,
   "metadata": {},
   "outputs": [],
   "source": [
    "def вектор_p(A, B, L, C, var_number):\n",
    "    matrix_L = матрица_L(A, B, L, C, var_number)\n",
    "    a = матрица_желаемых_коэффициентов(L)\n",
    "    d = вектор_d(A, B, L, C)\n",
    "    Iв, Iн, Eв, Eн = матрицы_I_E(A, B, L, C)\n",
    "    p = (Eв).inv()*Iв*(matrix_L.T).inv()*(a-d)\n",
    "    return p.T"
   ]
  },
  {
   "cell_type": "code",
   "execution_count": 131,
   "metadata": {},
   "outputs": [
    {
     "data": {
      "text/latex": [
       "$\\displaystyle \\left[\\begin{matrix}-3.82046649202291 & -1.31575870122135\\end{matrix}\\right]$"
      ],
      "text/plain": [
       "Matrix([[-3.82046649202291, -1.31575870122135]])"
      ]
     },
     "execution_count": 131,
     "metadata": {},
     "output_type": "execute_result"
    }
   ],
   "source": [
    "p = вектор_p(A, B, L, C, var_number)\n",
    "p"
   ]
  },
  {
   "cell_type": "code",
   "execution_count": 133,
   "metadata": {},
   "outputs": [
    {
     "data": {
      "text/plain": [
       "'matrix([3.82046649202291,1.31575870122135])'"
      ]
     },
     "execution_count": 133,
     "metadata": {},
     "output_type": "execute_result"
    }
   ],
   "source": [
    "toCopyString(p)"
   ]
  },
  {
   "cell_type": "code",
   "execution_count": 50,
   "metadata": {},
   "outputs": [],
   "source": [
    "def матрица_P(A, B, L, C, var_number):\n",
    "    p = вектор_p(A, B, L, C, var_number)\n",
    "    q = вектор_q(A, B, L, C, var_number)\n",
    "    return q * p"
   ]
  },
  {
   "cell_type": "code",
   "execution_count": 51,
   "metadata": {},
   "outputs": [
    {
     "name": "stdout",
     "output_type": "stream",
     "text": [
      "[7709/5852 - sqrt(81174713)/5852, 7709/5852 + sqrt(81174713)/5852]\n",
      "[7709/5852 - sqrt(81174713)/5852, 7709/5852 + sqrt(81174713)/5852]\n"
     ]
    },
    {
     "data": {
      "text/latex": [
       "$\\displaystyle \\left[\\begin{matrix}-0.586525559461174 & 0.781484472506609\\\\2.63884431821254 & -3.51598634838675\\end{matrix}\\right]$"
      ],
      "text/plain": [
       "Matrix([\n",
       "[-0.586525559461174, 0.781484472506609],\n",
       "[  2.63884431821254, -3.51598634838675]])"
      ]
     },
     "execution_count": 51,
     "metadata": {},
     "output_type": "execute_result"
    }
   ],
   "source": [
    "P = матрица_P(A, B, L, C, var_number)\n",
    "P"
   ]
  },
  {
   "cell_type": "code",
   "execution_count": 52,
   "metadata": {},
   "outputs": [
    {
     "data": {
      "text/plain": [
       "'matrix([-0.586525559461174,0.781484472506609],[2.63884431821254,-3.51598634838675])'"
      ]
     },
     "execution_count": 52,
     "metadata": {},
     "output_type": "execute_result"
    }
   ],
   "source": [
    "toCopyString(P)"
   ]
  },
  {
   "cell_type": "code",
   "execution_count": 165,
   "metadata": {},
   "outputs": [
    {
     "name": "stdout",
     "output_type": "stream",
     "text": [
      "[559/580 - sqrt(9721)/580, sqrt(9721)/580 + 559/580]\n",
      "[559/580 - sqrt(9721)/580, sqrt(9721)/580 + 559/580]\n",
      "[559/580 - sqrt(9721)/580, sqrt(9721)/580 + 559/580]\n",
      "[559/580 - sqrt(9721)/580, sqrt(9721)/580 + 559/580]\n",
      "27\n"
     ]
    }
   ],
   "source": [
    "for var_number in range(27, 27+1):\n",
    "    A, B, L, C = получить_матрицы_варианта(var_number)\n",
    "    A = sympy.Matrix(A)\n",
    "    B = sympy.Matrix(B)\n",
    "    L = sympy.Matrix(L)\n",
    "    C = sympy.Matrix(C)\n",
    "    try:\n",
    "        S            = матрица_управляемости(A, B, L)\n",
    "        определитель = определитель_матрицы_управляемости(S)\n",
    "        q            = вектор_q(A, B, L, C, var_number)\n",
    "        p            = вектор_p(A, B, L, C, var_number)\n",
    "        P            = матрица_P(A, B, L, C, var_number)\n",
    "\n",
    "        print(var_number)\n",
    "        with open(f'./results/{var_number}.txt', 'w') as file:\n",
    "            file.write(toCopyString(S) + '\\n')\n",
    "            file.write(str(определитель) + '\\n')\n",
    "            file.write(toCopyString(q) + '\\n')\n",
    "            file.write(toCopyString(p) + '\\n')\n",
    "            file.write(toCopyString(P) + '\\n')\n",
    "    except Exception as e:\n",
    "        print(e)\n",
    "        "
   ]
  },
  {
   "cell_type": "code",
   "execution_count": null,
   "metadata": {},
   "outputs": [],
   "source": []
  }
 ],
 "metadata": {
  "interpreter": {
   "hash": "568d99031516cb91b124139a50c43e0e628ee43803acee1edec6cbd47ca74668"
  },
  "kernelspec": {
   "display_name": "Python 3.10.2 64-bit",
   "language": "python",
   "name": "python3"
  },
  "language_info": {
   "codemirror_mode": {
    "name": "ipython",
    "version": 3
   },
   "file_extension": ".py",
   "mimetype": "text/x-python",
   "name": "python",
   "nbconvert_exporter": "python",
   "pygments_lexer": "ipython3",
   "version": "3.10.2"
  },
  "orig_nbformat": 4
 },
 "nbformat": 4,
 "nbformat_minor": 2
}
