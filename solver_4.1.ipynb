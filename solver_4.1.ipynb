{
 "cells": [
  {
   "cell_type": "code",
   "execution_count": 62,
   "metadata": {},
   "outputs": [],
   "source": [
    "import numpy as np\n",
    "import sympy\n",
    "import csv\n",
    "from json import loads\n",
    "\n",
    "lab_number = '4.1'\n",
    "var_number = 2\n",
    "\n",
    "\n",
    "def toCopyString(matrix) -> str:\n",
    "    return 'matrix(' + str(matrix).replace('Matrix([', '[').replace('])', ']')[1:-1].replace(' ', '') + ')'\n",
    "\n",
    "def fromCopyString(string: str):\n",
    "    return loads(string.replace('matrix(', '[').replace(')', ']'))\n",
    "\n",
    "def получить_матрицы_варианта(number):\n",
    "    filename = f'./{lab_number}_variants.txt'\n",
    "    with open(filename, 'r') as file:\n",
    "        variants = csv.reader(file, delimiter=',')\n",
    "        variant = list(variants)[number - 1][1].split(';')\n",
    "        A = fromCopyString(variant[0])\n",
    "        B = fromCopyString(variant[1])\n",
    "        L = fromCopyString(variant[2])\n",
    "        C = fromCopyString(variant[3])\n",
    "    return A, B, L, C"
   ]
  },
  {
   "cell_type": "code",
   "execution_count": 63,
   "metadata": {},
   "outputs": [],
   "source": [
    "A, B, L, C = получить_матрицы_варианта(var_number)\n",
    "A = sympy.Matrix(A)\n",
    "B = sympy.Matrix(B)\n",
    "L = sympy.Matrix(L)\n",
    "C = sympy.Matrix(C)"
   ]
  },
  {
   "cell_type": "code",
   "execution_count": 68,
   "metadata": {},
   "outputs": [],
   "source": [
    "def solve(A, B, L, C):\n",
    "    # Матрица наблюдаемости\n",
    "    observability_matrix = sympy.Matrix([(C.T).T, (A.T*C.T).T, (A.T**2*C.T).T]).T\n",
    "\n",
    "    # Определитель матрицы наблюдаемости\n",
    "    determinant = observability_matrix.det()\n",
    "    \n",
    "    # Желаемые коэффициенты характеристического полинома\n",
    "    s = sympy.symbols('s')\n",
    "    characteristic_polynomial = (s - L[0])*(s - L[1])*(s - L[2])\n",
    "    coefficients = sympy.Matrix(sympy.Poly(characteristic_polynomial, s).all_coeffs()[:0:-1])\n",
    "\n",
    "    # Матрица K\n",
    "    K = sympy.Matrix([sympy.symbols(f'K{i}') for i in range(3)])\n",
    "    det = (s*sympy.eye(3) - A + K*C).det()\n",
    "    eq = det - characteristic_polynomial\n",
    "    K = sympy.Matrix(list(sympy.solve(eq, K).values())).n()\n",
    "\n",
    "    # Матрица наблюдающего устройства\n",
    "    observing_matrix = A - K*C\n",
    "\n",
    "    return observability_matrix, determinant, coefficients, K, observing_matrix"
   ]
  },
  {
   "cell_type": "code",
   "execution_count": 69,
   "metadata": {},
   "outputs": [
    {
     "data": {
      "text/plain": [
       "(Matrix([\n",
       " [0, -8, -4],\n",
       " [1,  2, 64],\n",
       " [0, -4, -8]]),\n",
       " -48,\n",
       " Matrix([\n",
       " [240],\n",
       " [118],\n",
       " [ 19]]),\n",
       " Matrix([\n",
       " [ 211.75],\n",
       " [   28.0],\n",
       " [-515.75]]),\n",
       " Matrix([\n",
       " [ 1, -219.75, -3],\n",
       " [-8,   -26.0, -4],\n",
       " [-5,  516.75,  6]]))"
      ]
     },
     "execution_count": 69,
     "metadata": {},
     "output_type": "execute_result"
    }
   ],
   "source": [
    "solve(A, B, L, C)"
   ]
  },
  {
   "cell_type": "code",
   "execution_count": 70,
   "metadata": {},
   "outputs": [
    {
     "name": "stdout",
     "output_type": "stream",
     "text": [
      "1\n",
      "2\n",
      "3\n",
      "4\n",
      "5\n",
      "6\n",
      "7\n",
      "8\n",
      "9\n",
      "10\n",
      "11\n",
      "12\n",
      "13\n",
      "14\n",
      "15\n",
      "16\n",
      "17\n",
      "18\n",
      "19\n",
      "20\n",
      "21\n",
      "22\n",
      "23\n",
      "24\n",
      "25\n",
      "26\n",
      "27\n",
      "28\n",
      "29\n",
      "30\n"
     ]
    }
   ],
   "source": [
    "for var_number in range(1, 31):\n",
    "    A, B, L, C = получить_матрицы_варианта(var_number)\n",
    "    A = sympy.Matrix(A)\n",
    "    B = sympy.Matrix(B)\n",
    "    L = sympy.Matrix(L)\n",
    "    C = sympy.Matrix(C)\n",
    "    try:\n",
    "        observability_matrix, determinant, coefficients, K, observing_matrix = solve(A, B, L, C)\n",
    "\n",
    "        print(var_number)\n",
    "        with open(f'./results/{var_number}.txt', 'w') as file:\n",
    "            file.write(toCopyString(observability_matrix) + '\\n')\n",
    "            file.write(str(determinant) + '\\n')\n",
    "            file.write(toCopyString(coefficients) + '\\n')\n",
    "            file.write(toCopyString(K) + '\\n')\n",
    "            file.write(toCopyString(observing_matrix) + '\\n')\n",
    "    # catch error\n",
    "    except Exception as e:\n",
    "        print(f'Error in {var_number}: {e}')   \n",
    "        "
   ]
  },
  {
   "cell_type": "code",
   "execution_count": null,
   "metadata": {},
   "outputs": [],
   "source": []
  }
 ],
 "metadata": {
  "interpreter": {
   "hash": "568d99031516cb91b124139a50c43e0e628ee43803acee1edec6cbd47ca74668"
  },
  "kernelspec": {
   "display_name": "Python 3.10.2 64-bit",
   "language": "python",
   "name": "python3"
  },
  "language_info": {
   "codemirror_mode": {
    "name": "ipython",
    "version": 3
   },
   "file_extension": ".py",
   "mimetype": "text/x-python",
   "name": "python",
   "nbconvert_exporter": "python",
   "pygments_lexer": "ipython3",
   "version": "3.10.2"
  },
  "orig_nbformat": 4
 },
 "nbformat": 4,
 "nbformat_minor": 2
}
