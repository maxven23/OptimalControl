{
 "cells": [
  {
   "cell_type": "code",
   "execution_count": 1,
   "metadata": {},
   "outputs": [],
   "source": [
    "import numpy as np\n",
    "import sympy\n",
    "import csv\n",
    "from json import loads\n",
    "\n",
    "lab_number = '4.2'\n",
    "var_number = 1\n",
    "\n",
    "\n",
    "def toCopyString(matrix) -> str:\n",
    "    return 'matrix(' + str(matrix).replace('Matrix([', '[').replace('])', ']')[1:-1].replace(' ', '') + ')'\n",
    "\n",
    "def fromCopyString(string: str):\n",
    "    return loads(string.replace('matrix(', '[').replace(')', ']'))\n",
    "\n",
    "def получить_матрицы_варианта(number):\n",
    "    filename = f'./{lab_number}_variants.txt'\n",
    "    with open(filename, 'r') as file:\n",
    "        variants = csv.reader(file, delimiter=',')\n",
    "        variant = list(variants)[number - 1][1].split(';')\n",
    "        A = fromCopyString(variant[0])\n",
    "        B = fromCopyString(variant[1])\n",
    "        C = fromCopyString(variant[2])\n",
    "        P = fromCopyString(variant[3])\n",
    "        F = fromCopyString(variant[4])\n",
    "    return A, B, C, P, F"
   ]
  },
  {
   "cell_type": "code",
   "execution_count": 109,
   "metadata": {},
   "outputs": [
    {
     "data": {
      "text/latex": [
       "$\\displaystyle \\left[\\begin{matrix}-8 & -5 & 0 & 0\\end{matrix}\\right]$"
      ],
      "text/plain": [
       "Matrix([[-8, -5, 0, 0]])"
      ]
     },
     "execution_count": 109,
     "metadata": {},
     "output_type": "execute_result"
    }
   ],
   "source": [
    "A, B, C, P, F = получить_матрицы_варианта(var_number)\n",
    "A = sympy.Matrix(A)\n",
    "B = sympy.Matrix(B)\n",
    "C = sympy.Matrix(C)\n",
    "P = sympy.Matrix(P)\n",
    "F = sympy.Matrix(F)\n",
    "P"
   ]
  },
  {
   "cell_type": "code",
   "execution_count": 146,
   "metadata": {},
   "outputs": [],
   "source": [
    "def solve(A, B, C, P, F):\n",
    "    # Матрица наблюдаемости\n",
    "    observability_matrix = sympy.Matrix([(C.T).T, (A.T*C.T).T]).T\n",
    "\n",
    "    # Определитель матрицы наблюдаемости\n",
    "    determinant = observability_matrix.det()\n",
    "    \n",
    "    # x = [x1, x2, x3, x4]\n",
    "    x = sympy.symbols('x1:5')\n",
    "    \n",
    "    res = sympy.Matrix([0, 0, 0, 0])\n",
    "    no_res = sympy.Matrix([0, 0, 0, 0])\n",
    "    for i in range(4):\n",
    "        if P[i] == 0:\n",
    "            x = sympy.Symbol(f'x{i+1}')\n",
    "            res[i] = x\n",
    "        else:\n",
    "            x = sympy.Symbol(f'x{i+1}')\n",
    "            no_res[i] = x\n",
    "        \n",
    "    # Матрица T\n",
    "    p1, p2, p3, p4 = sympy.symbols('p1 p2 p3 p4')\n",
    "    H = sympy.Matrix([sympy.symbols('h1'), sympy.symbols('h2'), sympy.symbols('h3'), sympy.symbols('h4')])\n",
    "    T = sympy.Matrix([sympy.symbols('t1'), sympy.symbols('t2'), sympy.symbols('t3'), sympy.symbols('t4')])\n",
    "    for i in range(4):\n",
    "        if not (C[0, i] != 0 or C[1, i] != 0):\n",
    "            T[i] = P[i]\n",
    "            H[i] = 0\n",
    "    \n",
    "    T = T.T\n",
    "    H = H.T\n",
    "\n",
    "\n",
    "    eq = T*A - F*T - H\n",
    "    # solve eq for t1, t2, t3, t4, h1, h2, h3, h4\n",
    "    sol = sympy.solve(eq, [\n",
    "        sympy.symbols('t1'), sympy.symbols('t2'), sympy.symbols('t3'), sympy.symbols('t4'), \n",
    "        sympy.symbols('h1'), sympy.symbols('h2'), sympy.symbols('h3'), sympy.symbols('h4')\n",
    "    ])\n",
    "\n",
    "    for key in sol.keys():\n",
    "        if key == sympy.symbols('t1'):\n",
    "            t1 = sol[key]\n",
    "        elif key == sympy.symbols('t2'):\n",
    "            t2 = sol[key]\n",
    "        elif key == sympy.symbols('t3'):\n",
    "            t3 = sol[key]\n",
    "        elif key == sympy.symbols('t4'):\n",
    "            t4 = sol[key]\n",
    "        elif key == sympy.symbols('h1'):\n",
    "            h1 = sol[key]\n",
    "        elif key == sympy.symbols('h2'):\n",
    "            h2 = sol[key]\n",
    "        elif key == sympy.symbols('h3'):\n",
    "            h3 = sol[key]\n",
    "        elif key == sympy.symbols('h4'):\n",
    "            h4 = sol[key]\n",
    "    \n",
    "    for i in range(4):\n",
    "        if T[i] != P[i]:\n",
    "            if i == 0:\n",
    "                T[i] = t1\n",
    "            elif i == 1:\n",
    "                T[i] = t2\n",
    "            elif i == 2:\n",
    "                T[i] = t3\n",
    "            elif i == 3:\n",
    "                T[i] = t4\n",
    "        if H[i] != 0:  \n",
    "            if i == 0:\n",
    "                H[i] = h1\n",
    "            elif i == 1:\n",
    "                H[i] = h2\n",
    "            elif i == 2:\n",
    "                H[i] = h3\n",
    "            elif i == 3:\n",
    "                H[i] = h4\n",
    "    \n",
    "    T = T.n()\n",
    "    H = H.T.n()\n",
    "\n",
    "    TB = T*B\n",
    "    \n",
    "    result_string_for_z_der = (f\"z' = {F[0]} z + {H[0]} x_1 + {H[1]} x_2 + {H[2]} x_3 + {H[3]} x_4 + {TB[0]} u_1 + {TB[1]} u_2\")\n",
    "    result_string_for_w = 'w = '\n",
    "    flag = True\n",
    "    for i in range(4):\n",
    "        if sympy.symbols(f'x{i+1}') in no_res:\n",
    "            result_string_for_w += (f\"{T[i]} x_{i+1}\")\n",
    "            if flag:\n",
    "                result_string_for_w += ' + '\n",
    "                flag = False\n",
    "                \n",
    "    result_string_for_w += ' = z'\n",
    "    for i in range(4):\n",
    "        if sympy.symbols(f'x{i+1}') in res:\n",
    "            result_string_for_w += (f\" - {T[i]} x_{i+1}\")\n",
    "\n",
    "    # print(f\"z = {T[0]} x_1 + {T[1]} x_2 + {T[2]} x_3 + {T[3]} x_4\")\n",
    "\n",
    "\n",
    "    return observability_matrix, determinant, T, H, result_string_for_z_der, result_string_for_w"
   ]
  },
  {
   "cell_type": "code",
   "execution_count": 147,
   "metadata": {},
   "outputs": [
    {
     "data": {
      "text/plain": [
       "(Matrix([\n",
       " [0, 0, -5,  -6],\n",
       " [0, 0,  4,  -8],\n",
       " [0, 1, -6,   8],\n",
       " [1, 0, -8, -10]]),\n",
       " -64,\n",
       " Matrix([[-2.0, -3.0, -3.390625, -2.53125]]),\n",
       " Matrix([\n",
       " [         0],\n",
       " [         0],\n",
       " [-27.671875],\n",
       " [   45.4375]]),\n",
       " \"z' = -7 z + 0 x_1 + 0 x_2 + -27.6718750000000 x_3 + 45.4375000000000 x_4 + -12.9531250000000 u_1 + -11.6562500000000 u_2\",\n",
       " 'w = -2.00000000000000 x_1 + -3.00000000000000 x_2 = z - -3.39062500000000 x_3 - -2.53125000000000 x_4')"
      ]
     },
     "execution_count": 147,
     "metadata": {},
     "output_type": "execute_result"
    }
   ],
   "source": [
    "solve(A, B, C, P, F)"
   ]
  },
  {
   "cell_type": "code",
   "execution_count": 148,
   "metadata": {},
   "outputs": [
    {
     "name": "stdout",
     "output_type": "stream",
     "text": [
      "1\n",
      "2\n",
      "3\n",
      "4\n",
      "5\n",
      "6\n",
      "7\n",
      "8\n",
      "9\n",
      "10\n",
      "11\n",
      "12\n",
      "13\n",
      "14\n",
      "15\n",
      "16\n",
      "17\n",
      "18\n",
      "19\n",
      "20\n",
      "21\n",
      "22\n",
      "23\n",
      "24\n",
      "25\n",
      "26\n",
      "27\n",
      "28\n",
      "29\n",
      "30\n"
     ]
    }
   ],
   "source": [
    "for var_number in range(1, 31):\n",
    "    A, B, C, P, F = получить_матрицы_варианта(var_number)\n",
    "    A = sympy.Matrix(A)\n",
    "    B = sympy.Matrix(B)\n",
    "    C = sympy.Matrix(C)\n",
    "    P = sympy.Matrix(P)\n",
    "    F = sympy.Matrix(F)\n",
    "    try:\n",
    "        observability_matrix, determinant, T, H, result_string_for_z_der, result_string_for_w = solve(A, B, C, P, F)\n",
    "\n",
    "        print(var_number)\n",
    "        with open(f'./results/{var_number}.txt', 'w') as file:\n",
    "            file.write(toCopyString(observability_matrix) + '\\n')\n",
    "            file.write(str(determinant) + '\\n')\n",
    "            file.write(toCopyString(T) + '\\n')\n",
    "            file.write(toCopyString(H) + '\\n')\n",
    "            file.write(result_string_for_z_der + '\\n')\n",
    "            file.write(result_string_for_w + '\\n')\n",
    "    # catch error\n",
    "    except Exception as e:\n",
    "        print(f'Error in {var_number}: {e}')   \n",
    "        "
   ]
  },
  {
   "cell_type": "code",
   "execution_count": null,
   "metadata": {},
   "outputs": [],
   "source": []
  }
 ],
 "metadata": {
  "interpreter": {
   "hash": "568d99031516cb91b124139a50c43e0e628ee43803acee1edec6cbd47ca74668"
  },
  "kernelspec": {
   "display_name": "Python 3.10.2 64-bit",
   "language": "python",
   "name": "python3"
  },
  "language_info": {
   "codemirror_mode": {
    "name": "ipython",
    "version": 3
   },
   "file_extension": ".py",
   "mimetype": "text/x-python",
   "name": "python",
   "nbconvert_exporter": "python",
   "pygments_lexer": "ipython3",
   "version": "3.10.2"
  },
  "orig_nbformat": 4
 },
 "nbformat": 4,
 "nbformat_minor": 2
}
